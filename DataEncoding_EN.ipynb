{
 "cells": [
  {
   "cell_type": "markdown",
   "id": "2b8d96ea",
   "metadata": {},
   "source": [
    "# Encoding Classical Data into Quantum States\n",
    "\n",
    "<em> Copyright (c) 2021 Institute for Quantum Computing, Baidu Inc. All Rights Reserved. </em>"
   ]
  },
  {
   "cell_type": "code",
   "execution_count": 1,
   "id": "f160535c",
   "metadata": {},
   "outputs": [
    {
     "data": {
      "text/html": [
       "<style>pre { white-space: pre !important; }</style>"
      ],
      "text/plain": [
       "<IPython.core.display.HTML object>"
      ]
     },
     "metadata": {},
     "output_type": "display_data"
    }
   ],
   "source": [
    "from IPython.core.display import HTML\n",
    "display(HTML(\"<style>pre { white-space: pre !important; }</style>\"))"
   ]
  },
  {
   "cell_type": "markdown",
   "id": "2e2ccb8d",
   "metadata": {},
   "source": [
    "## Overview\n",
    "\n",
    "Quantum encoding is a process to transform classical information into quantum states. \n",
    "It plays a crucial role in using quantum algorithms to solve classical problems, especially in quantum machine learning tasks. Interested readers can find an example of using quantum encoding \n",
    "in our tutorial on [quantum classifier](./QClassifier_EN.ipynb), where we use quantum neural networks to accomplish a classical binary classification task.\n",
    "Quantum encoding can be seen as a quantum circuit that acts on $\\left| 0^n \\right>$ state (n is the number of qubits), with some parameters determined by the classical information.\n",
    "\n",
    "In this tutorial, we will discuss five typical encoding schemes, including **basis encoding** [1], **amplitude encoding** [1], **angle encoding** [1], **instantaneous quantum polynomial (IQP) style encoding** [2], and **Hamiltonian evolution ansatz encoding** [3]. In Paddle Quantum, we provide built-in methods for the first four encoding strategies.\n",
    "\n",
    "## Basis Encoding\n",
    "\n",
    "Basis encoding is the most intuitive way to encode classical information into a quantum state. It encodes an $n$-bit binary string $x$ to an $n$-qubit quantum state $\\left|x\\right> = \\left|i_x\\right>$, where $\\left|i_x\\right>$ is a computational basis state. For example, if $x=1011$, the corresponding quantum state after basis encoding is $\\left|1011\\right>$. Let's take a look at how to use Paddle Quantum to implement basis encoding:"
   ]
  },
  {
   "cell_type": "code",
   "execution_count": 2,
   "id": "3b220934",
   "metadata": {},
   "outputs": [],
   "source": [
    "# Import necessary library\n",
    "import paddle\n",
    "import numpy as np\n",
    "np.object = object\n",
    "from paddle_quantum.ansatz import Circuit\n",
    "from paddle_quantum.gate import BasisEncoding, AmplitudeEncoding, AngleEncoding, IQPEncoding\n",
    "import paddle_quantum as pq\n"
   ]
  },
  {
   "cell_type": "markdown",
   "id": "9e653bdf",
   "metadata": {},
   "source": [
    "Start from $\\left| 0^n \\right>$, and we apply an $X$ gate if the corresponding classical bit is 1. We construct the circuit as follows: "
   ]
  },
  {
   "cell_type": "code",
   "execution_count": 3,
   "id": "ff86f454",
   "metadata": {},
   "outputs": [
    {
     "name": "stdout",
     "output_type": "stream",
     "text": [
      "--X--\n",
      "     \n",
      "-----\n",
      "     \n",
      "--X--\n",
      "     \n",
      "--X--\n",
      "     \n"
     ]
    }
   ],
   "source": [
    "# Number of qubits = length of the classical binary string\n",
    "n = 4\n",
    "# Initialize the circuit\n",
    "basis_enc = Circuit(n)\n",
    "# X is the classical information\n",
    "x = '1011'\n",
    "# Add a Pauli X gate to the ith qubit if the ith classical bit is 1\n",
    "for i in range(len(x)):\n",
    "    if x[i] == '1':\n",
    "        basis_enc.x(i)\n",
    "  \n",
    "print(basis_enc)"
   ]
  },
  {
   "cell_type": "markdown",
   "id": "95559773",
   "metadata": {},
   "source": [
    "The corresponding quantum state after basis encoding is: "
   ]
  },
  {
   "cell_type": "code",
   "execution_count": 4,
   "id": "9a5909db",
   "metadata": {},
   "outputs": [
    {
     "name": "stdout",
     "output_type": "stream",
     "text": [
      "[0.+0.j 0.+0.j 0.+0.j 0.+0.j 0.+0.j 0.+0.j 0.+0.j 0.+0.j 0.+0.j 0.+0.j\n",
      " 0.+0.j 0.+0.j 0.+0.j 0.+0.j 0.+0.j 0.+0.j]\n"
     ]
    }
   ],
   "source": [
    "init_state = pq.state.zero_state(n)\n",
    "basis_quantum_state = basis_enc(init_state)\n",
    "\n",
    "print(basis_quantum_state)"
   ]
  },
  {
   "cell_type": "markdown",
   "id": "a6360824",
   "metadata": {},
   "source": [
    "which is the state $\\left|1011\\right>$ as we desired.\n",
    "\n",
    "In Paddle Quantum, we also provide a built-in method for basis encoding:"
   ]
  },
  {
   "cell_type": "code",
   "execution_count": 5,
   "id": "a7594453",
   "metadata": {},
   "outputs": [
    {
     "name": "stdout",
     "output_type": "stream",
     "text": [
      "[0.+0.j 0.+0.j 0.+0.j 0.+0.j 0.+0.j 0.+0.j 0.+0.j 0.+0.j 0.+0.j 0.+0.j\n",
      " 0.+0.j 0.+0.j 0.+0.j 0.+0.j 0.+0.j 0.+0.j]\n"
     ]
    }
   ],
   "source": [
    "# Built-in basis encoding\n",
    "built_in_basis_enc = BasisEncoding(num_qubits=n)\n",
    "# Classical information x should be of type Tensor\n",
    "x = paddle.to_tensor([1, 0, 1, 1])\n",
    "built_in_basis_enc_state = built_in_basis_enc(feature=x)\n",
    "\n",
    "print(built_in_basis_enc_state)"
   ]
  },
  {
   "cell_type": "markdown",
   "id": "0630a047",
   "metadata": {},
   "source": [
    "## Amplitude Encoding\n",
    "\n",
    "Amplitude encoding encodes a vector $\\mathbf{x}$ of length $N$ into amplitudes of an $n$-qubit quantum state with $n = \\lceil\\log_2(N)\\rceil$:\n",
    "\n",
    "$$\n",
    "\\begin{align*} \\left|\\mathbf{x}\\right> = \\sum\\limits_{i}^{N}x_i\\left|i\\right>\\end{align*},\n",
    "$$\n",
    "\n",
    "where $\\left\\{\\left|i\\right>\\right\\}$ is the computational basis for the Hilbert space. Since the classical information forms the amplitudes of a quantum state, the input needs to satisfy the normalization condition: $\\left|\\mathbf{x}\\right|^{2} = 1$.\n",
    "\n",
    "For instance, if $\\mathbf{x} = \\begin{bmatrix} \\frac{1}{2}\\\\ \\frac{1}{2}\\\\ -\\frac{1}{2}\\\\ -\\frac{1}{2} \\end{bmatrix}$, the corresponding quantum state will be $\\left|\\mathbf{x}\\right> = \\frac{1}{2}\\left|00\\right> + \\frac{1}{2} \\left|01\\right> - \\frac{1}{2} \\left|10\\right> - \\frac{1}{2} \\left|11\\right>$.  \n",
    "Here is another example with $N < 2^n$, if $\\mathbf{y} = \\begin{bmatrix} \\frac{1}{\\sqrt{3}}\\\\\\frac{1}{\\sqrt{3}}\\\\\\frac{1}{\\sqrt{3}} \\end{bmatrix}$, the corresponding quantum state will be $\\left|\\mathbf{y}\\right> = \\frac{1}{\\sqrt{3}}\\left|00\\right> + \\frac{1}{\\sqrt{3}}\\left|01\\right> + \\frac{1}{\\sqrt{3}}\\left|10\\right>$.\n",
    "\n",
    "You may have already noticed, amplitude encoding cannot be represented as a trivial quantum circuit. Instead, it can be implemented using arbitrary state preparation [1]. But don't worry. In Paddle Quantum, we provide a built-in method for amplitude encoding:"
   ]
  },
  {
   "cell_type": "code",
   "execution_count": 6,
   "id": "adb251b5",
   "metadata": {},
   "outputs": [
    {
     "name": "stdout",
     "output_type": "stream",
     "text": [
      "[nan+0.j nan+0.j nan+0.j  0.+0.j]\n"
     ]
    }
   ],
   "source": [
    "# Built-in amplitude encoding\n",
    "# Number of qubits\n",
    "n = 2\n",
    "# Initialize the circuit\n",
    "built_in_amplitude_enc = AmplitudeEncoding(num_qubits=n)\n",
    "# Classical information x should be of type Tensor\n",
    "x = paddle.to_tensor([0.5, 0.5, 0.5])\n",
    "state = built_in_amplitude_enc(x)\n",
    "\n",
    "print(state)"
   ]
  },
  {
   "cell_type": "markdown",
   "id": "a90d9ca6",
   "metadata": {},
   "source": [
    "In Paddle Quantum, we will normalize the input classical vector by default. As you can see, \n",
    "the result is indeed $\\frac{1}{\\sqrt{3}}\\left|00\\right> + \\frac{1}{\\sqrt{3}}\\left|01\\right> + \\frac{1}{\\sqrt{3}}\\left|10\\right>$.\n",
    "\n",
    "## Angle Encoding\n",
    "\n",
    "Angle encoding makes use of rotation gates to encode classical information $\\mathbf{x}$. The classical information determines angles of rotation gates:\n",
    "\n",
    "$$\n",
    "\\left|\\mathbf{x}\\right> = \\bigotimes_{i}^{n} R(\\mathbf{x}_i) \\left| 0^n \\right>,\n",
    "$$\n",
    "\n",
    "where $R$ can be one of $R_x$, $R_y$, $R_z$. Usually, the number of qubits used for encoding is equal to the dimension of vector $\\mathbf{x}$.  \n",
    "For example, when $\\mathbf{x} = \\begin{bmatrix} \\pi \\\\ \\pi\\\\ \\pi \\end{bmatrix}$, angle encoding rotates every qubit around Y-axis (if we choose $R_y$) for degree $\\pi$, so that the corresponding quantum state will be $\\left|111\\right>$.\n",
    "\n",
    "The circuit for angle encoding can be constructed as follows: "
   ]
  },
  {
   "cell_type": "code",
   "execution_count": 7,
   "id": "5f9c513e",
   "metadata": {},
   "outputs": [
    {
     "name": "stdout",
     "output_type": "stream",
     "text": [
      "--Ry(0.000)--\n",
      "             \n",
      "--Ry(0.000)--\n",
      "             \n",
      "--Ry(0.000)--\n",
      "             \n"
     ]
    },
    {
     "name": "stderr",
     "output_type": "stream",
     "text": [
      "/Users/edgarroussel/.tfq/lib/python3.10/site-packages/paddle_quantum/ansatz/circuit.py:1521: DeprecationWarning: Conversion of an array with ndim > 0 to a scalar is deprecated, and will error in future. Ensure you extract a single element from your array before performing this operation. (Deprecated NumPy 1.25.)\n",
      "  10] = format(float(param.numpy()), '.3f')[:5]\n"
     ]
    }
   ],
   "source": [
    "# Number of qubits = length of the classical information\n",
    "n = 3\n",
    "# Initialize the circuit\n",
    "angle_enc = Circuit(n)\n",
    "# X is the classical information\n",
    "x = paddle.to_tensor([np.pi, np.pi, np.pi], 'float64')\n",
    "# Add a layer of rotation y gates\n",
    "for i in range(len(x)):\n",
    "    angle_enc.ry(qubits_idx=i, param=x[i])\n",
    "        \n",
    "print(angle_enc)"
   ]
  },
  {
   "cell_type": "markdown",
   "id": "1e5a6e06",
   "metadata": {},
   "source": [
    "The corresponding quantum state after amplitude encoding is:"
   ]
  },
  {
   "cell_type": "code",
   "execution_count": 8,
   "id": "295e7c3d",
   "metadata": {},
   "outputs": [
    {
     "name": "stderr",
     "output_type": "stream",
     "text": [
      "/Users/edgarroussel/.tfq/lib/python3.10/site-packages/paddle/tensor/manipulation.py:1769: SyntaxWarning: assertion is always true, perhaps remove parentheses?\n",
      "  assert (repeat_times.ndim == 1,\n",
      "/Users/edgarroussel/.tfq/lib/python3.10/site-packages/paddle/tensor/manipulation.py:1769: SyntaxWarning: assertion is always true, perhaps remove parentheses?\n",
      "  assert (repeat_times.ndim == 1,\n"
     ]
    },
    {
     "ename": "IndexError",
     "evalue": "(OutOfRange) The element of Index must be less than the size of input dim size of axis which is 8, but received index element which is 1065353216 in the 0 index.\n  [Hint: Expected p_index[i] < input_size, but received p_index[i]:1065353216 >= input_size:8.] (at /Users/paddle/work/pengyuqi/Paddle/paddle/phi/kernels/funcs/gather.h:83)\n  [operator < gather > error]",
     "output_type": "error",
     "traceback": [
      "\u001b[0;31m---------------------------------------------------------------------------\u001b[0m",
      "\u001b[0;31mIndexError\u001b[0m                                Traceback (most recent call last)",
      "Cell \u001b[0;32mIn[8], line 2\u001b[0m\n\u001b[1;32m      1\u001b[0m init_state \u001b[38;5;241m=\u001b[39m pq\u001b[38;5;241m.\u001b[39mstate\u001b[38;5;241m.\u001b[39mzero_state(n)\n\u001b[0;32m----> 2\u001b[0m angle_quan_state \u001b[38;5;241m=\u001b[39m \u001b[43mangle_enc\u001b[49m\u001b[43m(\u001b[49m\u001b[43minit_state\u001b[49m\u001b[43m)\u001b[49m\n\u001b[1;32m      4\u001b[0m \u001b[38;5;28mprint\u001b[39m([np\u001b[38;5;241m.\u001b[39mround(i, \u001b[38;5;241m2\u001b[39m) \u001b[38;5;28;01mfor\u001b[39;00m i \u001b[38;5;129;01min\u001b[39;00m angle_quan_state\u001b[38;5;241m.\u001b[39mdata\u001b[38;5;241m.\u001b[39mnumpy()])\n",
      "File \u001b[0;32m~/.tfq/lib/python3.10/site-packages/paddle/fluid/dygraph/layers.py:930\u001b[0m, in \u001b[0;36mLayer.__call__\u001b[0;34m(self, *inputs, **kwargs)\u001b[0m\n\u001b[1;32m    928\u001b[0m     \u001b[38;5;28;01mreturn\u001b[39;00m \u001b[38;5;28mself\u001b[39m\u001b[38;5;241m.\u001b[39mforward(\u001b[38;5;241m*\u001b[39minputs, \u001b[38;5;241m*\u001b[39m\u001b[38;5;241m*\u001b[39mkwargs)\n\u001b[1;32m    929\u001b[0m \u001b[38;5;28;01melse\u001b[39;00m:\n\u001b[0;32m--> 930\u001b[0m     \u001b[38;5;28;01mreturn\u001b[39;00m \u001b[38;5;28;43mself\u001b[39;49m\u001b[38;5;241;43m.\u001b[39;49m\u001b[43m_dygraph_call_func\u001b[49m\u001b[43m(\u001b[49m\u001b[38;5;241;43m*\u001b[39;49m\u001b[43minputs\u001b[49m\u001b[43m,\u001b[49m\u001b[43m \u001b[49m\u001b[38;5;241;43m*\u001b[39;49m\u001b[38;5;241;43m*\u001b[39;49m\u001b[43mkwargs\u001b[49m\u001b[43m)\u001b[49m\n",
      "File \u001b[0;32m~/.tfq/lib/python3.10/site-packages/paddle/fluid/dygraph/layers.py:915\u001b[0m, in \u001b[0;36mLayer._dygraph_call_func\u001b[0;34m(self, *inputs, **kwargs)\u001b[0m\n\u001b[1;32m    913\u001b[0m         outputs \u001b[38;5;241m=\u001b[39m \u001b[38;5;28mself\u001b[39m\u001b[38;5;241m.\u001b[39mforward(\u001b[38;5;241m*\u001b[39minputs, \u001b[38;5;241m*\u001b[39m\u001b[38;5;241m*\u001b[39mkwargs)\n\u001b[1;32m    914\u001b[0m \u001b[38;5;28;01melse\u001b[39;00m:\n\u001b[0;32m--> 915\u001b[0m     outputs \u001b[38;5;241m=\u001b[39m \u001b[38;5;28;43mself\u001b[39;49m\u001b[38;5;241;43m.\u001b[39;49m\u001b[43mforward\u001b[49m\u001b[43m(\u001b[49m\u001b[38;5;241;43m*\u001b[39;49m\u001b[43minputs\u001b[49m\u001b[43m,\u001b[49m\u001b[43m \u001b[49m\u001b[38;5;241;43m*\u001b[39;49m\u001b[38;5;241;43m*\u001b[39;49m\u001b[43mkwargs\u001b[49m\u001b[43m)\u001b[49m\n\u001b[1;32m    917\u001b[0m \u001b[38;5;28;01mfor\u001b[39;00m forward_post_hook \u001b[38;5;129;01min\u001b[39;00m \u001b[38;5;28mself\u001b[39m\u001b[38;5;241m.\u001b[39m_forward_post_hooks\u001b[38;5;241m.\u001b[39mvalues():\n\u001b[1;32m    918\u001b[0m     hook_result \u001b[38;5;241m=\u001b[39m forward_post_hook(\u001b[38;5;28mself\u001b[39m, inputs, outputs)\n",
      "File \u001b[0;32m~/.tfq/lib/python3.10/site-packages/paddle_quantum/ansatz/circuit.py:1696\u001b[0m, in \u001b[0;36mCircuit.forward\u001b[0;34m(self, state)\u001b[0m\n\u001b[1;32m   1694\u001b[0m state \u001b[38;5;241m=\u001b[39m state\u001b[38;5;241m.\u001b[39mclone()\n\u001b[1;32m   1695\u001b[0m state\u001b[38;5;241m.\u001b[39mis_swap_back \u001b[38;5;241m=\u001b[39m \u001b[38;5;28;01mFalse\u001b[39;00m\n\u001b[0;32m-> 1696\u001b[0m state \u001b[38;5;241m=\u001b[39m \u001b[38;5;28;43msuper\u001b[39;49m\u001b[43m(\u001b[49m\u001b[43m)\u001b[49m\u001b[38;5;241;43m.\u001b[39;49m\u001b[43mforward\u001b[49m\u001b[43m(\u001b[49m\u001b[43mstate\u001b[49m\u001b[43m)\u001b[49m\n\u001b[1;32m   1698\u001b[0m \u001b[38;5;66;03m# reset state in the original qubit sequence\u001b[39;00m\n\u001b[1;32m   1699\u001b[0m state\u001b[38;5;241m.\u001b[39mreset_sequence()\n",
      "File \u001b[0;32m~/.tfq/lib/python3.10/site-packages/paddle_quantum/ansatz/container.py:204\u001b[0m, in \u001b[0;36mSequential.forward\u001b[0;34m(self, state)\u001b[0m\n\u001b[1;32m    195\u001b[0m \u001b[38;5;250m\u001b[39m\u001b[38;5;124mr\u001b[39m\u001b[38;5;124;03m\"\"\" forward the input\u001b[39;00m\n\u001b[1;32m    196\u001b[0m \n\u001b[1;32m    197\u001b[0m \u001b[38;5;124;03mArgs:\u001b[39;00m\n\u001b[0;32m   (...)\u001b[0m\n\u001b[1;32m    201\u001b[0m \u001b[38;5;124;03m    output state\u001b[39;00m\n\u001b[1;32m    202\u001b[0m \u001b[38;5;124;03m\"\"\"\u001b[39;00m\n\u001b[1;32m    203\u001b[0m \u001b[38;5;28;01mfor\u001b[39;00m layer \u001b[38;5;129;01min\u001b[39;00m \u001b[38;5;28mself\u001b[39m\u001b[38;5;241m.\u001b[39m_sub_layers\u001b[38;5;241m.\u001b[39mvalues():\n\u001b[0;32m--> 204\u001b[0m     state \u001b[38;5;241m=\u001b[39m \u001b[43mlayer\u001b[49m\u001b[43m(\u001b[49m\u001b[43mstate\u001b[49m\u001b[43m)\u001b[49m\n\u001b[1;32m    205\u001b[0m \u001b[38;5;28;01mreturn\u001b[39;00m state\n",
      "File \u001b[0;32m~/.tfq/lib/python3.10/site-packages/paddle/fluid/dygraph/layers.py:930\u001b[0m, in \u001b[0;36mLayer.__call__\u001b[0;34m(self, *inputs, **kwargs)\u001b[0m\n\u001b[1;32m    928\u001b[0m     \u001b[38;5;28;01mreturn\u001b[39;00m \u001b[38;5;28mself\u001b[39m\u001b[38;5;241m.\u001b[39mforward(\u001b[38;5;241m*\u001b[39minputs, \u001b[38;5;241m*\u001b[39m\u001b[38;5;241m*\u001b[39mkwargs)\n\u001b[1;32m    929\u001b[0m \u001b[38;5;28;01melse\u001b[39;00m:\n\u001b[0;32m--> 930\u001b[0m     \u001b[38;5;28;01mreturn\u001b[39;00m \u001b[38;5;28;43mself\u001b[39;49m\u001b[38;5;241;43m.\u001b[39;49m\u001b[43m_dygraph_call_func\u001b[49m\u001b[43m(\u001b[49m\u001b[38;5;241;43m*\u001b[39;49m\u001b[43minputs\u001b[49m\u001b[43m,\u001b[49m\u001b[43m \u001b[49m\u001b[38;5;241;43m*\u001b[39;49m\u001b[38;5;241;43m*\u001b[39;49m\u001b[43mkwargs\u001b[49m\u001b[43m)\u001b[49m\n",
      "File \u001b[0;32m~/.tfq/lib/python3.10/site-packages/paddle/fluid/dygraph/layers.py:915\u001b[0m, in \u001b[0;36mLayer._dygraph_call_func\u001b[0;34m(self, *inputs, **kwargs)\u001b[0m\n\u001b[1;32m    913\u001b[0m         outputs \u001b[38;5;241m=\u001b[39m \u001b[38;5;28mself\u001b[39m\u001b[38;5;241m.\u001b[39mforward(\u001b[38;5;241m*\u001b[39minputs, \u001b[38;5;241m*\u001b[39m\u001b[38;5;241m*\u001b[39mkwargs)\n\u001b[1;32m    914\u001b[0m \u001b[38;5;28;01melse\u001b[39;00m:\n\u001b[0;32m--> 915\u001b[0m     outputs \u001b[38;5;241m=\u001b[39m \u001b[38;5;28;43mself\u001b[39;49m\u001b[38;5;241;43m.\u001b[39;49m\u001b[43mforward\u001b[49m\u001b[43m(\u001b[49m\u001b[38;5;241;43m*\u001b[39;49m\u001b[43minputs\u001b[49m\u001b[43m,\u001b[49m\u001b[43m \u001b[49m\u001b[38;5;241;43m*\u001b[39;49m\u001b[38;5;241;43m*\u001b[39;49m\u001b[43mkwargs\u001b[49m\u001b[43m)\u001b[49m\n\u001b[1;32m    917\u001b[0m \u001b[38;5;28;01mfor\u001b[39;00m forward_post_hook \u001b[38;5;129;01min\u001b[39;00m \u001b[38;5;28mself\u001b[39m\u001b[38;5;241m.\u001b[39m_forward_post_hooks\u001b[38;5;241m.\u001b[39mvalues():\n\u001b[1;32m    918\u001b[0m     hook_result \u001b[38;5;241m=\u001b[39m forward_post_hook(\u001b[38;5;28mself\u001b[39m, inputs, outputs)\n",
      "File \u001b[0;32m~/.tfq/lib/python3.10/site-packages/paddle_quantum/gate/base.py:362\u001b[0m, in \u001b[0;36mParamGate.forward\u001b[0;34m(self, state)\u001b[0m\n\u001b[1;32m    360\u001b[0m         param_matrices\u001b[38;5;241m.\u001b[39mappend(param_matrix)\n\u001b[1;32m    361\u001b[0m \u001b[38;5;28;01mif\u001b[39;00m \u001b[38;5;28mself\u001b[39m\u001b[38;5;241m.\u001b[39mnum_acted_qubits \u001b[38;5;241m==\u001b[39m \u001b[38;5;241m1\u001b[39m:\n\u001b[0;32m--> 362\u001b[0m     state \u001b[38;5;241m=\u001b[39m \u001b[38;5;28;43mself\u001b[39;49m\u001b[38;5;241;43m.\u001b[39;49m\u001b[43m_single_qubit_combine_with_threshold6\u001b[49m\u001b[43m(\u001b[49m\n\u001b[1;32m    363\u001b[0m \u001b[43m        \u001b[49m\u001b[43mstate\u001b[49m\u001b[38;5;241;43m=\u001b[39;49m\u001b[43mstate\u001b[49m\u001b[43m,\u001b[49m\u001b[43m \u001b[49m\u001b[43mmatrices\u001b[49m\u001b[38;5;241;43m=\u001b[39;49m\u001b[43mparam_matrices\u001b[49m\u001b[43m)\u001b[49m\n\u001b[1;32m    364\u001b[0m \u001b[38;5;28;01melse\u001b[39;00m:\n\u001b[1;32m    365\u001b[0m     \u001b[38;5;28;01mfor\u001b[39;00m param_idx, qubit_idx \u001b[38;5;129;01min\u001b[39;00m \u001b[38;5;28menumerate\u001b[39m(\u001b[38;5;28mself\u001b[39m\u001b[38;5;241m.\u001b[39mqubits_idx):\n",
      "File \u001b[0;32m~/.tfq/lib/python3.10/site-packages/paddle_quantum/gate/base.py:196\u001b[0m, in \u001b[0;36mGate._single_qubit_combine_with_threshold6\u001b[0;34m(self, state, matrices)\u001b[0m\n\u001b[1;32m    194\u001b[0m \u001b[38;5;28;01mif\u001b[39;00m tensor_left \u001b[38;5;241m>\u001b[39m \u001b[38;5;241m0\u001b[39m:\n\u001b[1;32m    195\u001b[0m     idx_st \u001b[38;5;241m=\u001b[39m tensor_times \u001b[38;5;241m*\u001b[39m threshold_qubits\n\u001b[0;32m--> 196\u001b[0m     state \u001b[38;5;241m=\u001b[39m \u001b[43msimulation\u001b[49m\u001b[43m(\u001b[49m\n\u001b[1;32m    197\u001b[0m \u001b[43m        \u001b[49m\u001b[43mstate\u001b[49m\u001b[43m,\u001b[49m\u001b[43m \u001b[49m\u001b[43mmatrices\u001b[49m\u001b[43m[\u001b[49m\u001b[43midx_st\u001b[49m\u001b[43m:\u001b[49m\u001b[43m]\u001b[49m\u001b[43m,\u001b[49m\u001b[43m \u001b[49m\u001b[38;5;28;43mself\u001b[39;49m\u001b[38;5;241;43m.\u001b[39;49m\u001b[43mqubits_idx\u001b[49m\u001b[43m[\u001b[49m\u001b[43midx_st\u001b[49m\u001b[43m:\u001b[49m\u001b[43m]\u001b[49m\u001b[43m)\u001b[49m\n\u001b[1;32m    198\u001b[0m \u001b[38;5;28;01mreturn\u001b[39;00m state\n",
      "File \u001b[0;32m~/.tfq/lib/python3.10/site-packages/paddle_quantum/gate/functional/base.py:52\u001b[0m, in \u001b[0;36msimulation\u001b[0;34m(state, gate, qubit_idx)\u001b[0m\n\u001b[1;32m     49\u001b[0m         state \u001b[38;5;241m=\u001b[39m __simulation_with_swapback(state, gate[\u001b[38;5;241m0\u001b[39m], qubit_idx)\n\u001b[1;32m     50\u001b[0m     \u001b[38;5;28;01mreturn\u001b[39;00m state\n\u001b[0;32m---> 52\u001b[0m \u001b[38;5;28;01mreturn\u001b[39;00m \u001b[43m__simulation_without_swapback\u001b[49m\u001b[43m(\u001b[49m\u001b[43mstate\u001b[49m\u001b[43m,\u001b[49m\u001b[43m \u001b[49m\u001b[43mgate\u001b[49m\u001b[43m,\u001b[49m\u001b[43m \u001b[49m\u001b[43mqubit_idx\u001b[49m\u001b[43m)\u001b[49m\n",
      "File \u001b[0;32m~/.tfq/lib/python3.10/site-packages/paddle_quantum/gate/functional/base.py:106\u001b[0m, in \u001b[0;36m__simulation_without_swapback\u001b[0;34m(state, gate, qubit_idx)\u001b[0m\n\u001b[1;32m    103\u001b[0m qubit_sequence \u001b[38;5;241m=\u001b[39m state\u001b[38;5;241m.\u001b[39mqubit_sequence\n\u001b[1;32m    105\u001b[0m \u001b[38;5;28;01mif\u001b[39;00m backend \u001b[38;5;241m==\u001b[39m pq\u001b[38;5;241m.\u001b[39mBackend\u001b[38;5;241m.\u001b[39mStateVector:\n\u001b[0;32m--> 106\u001b[0m     data, qubit_sequence \u001b[38;5;241m=\u001b[39m \u001b[43mstate_vector\u001b[49m\u001b[38;5;241;43m.\u001b[39;49m\u001b[43munitary_transformation_without_swapback\u001b[49m\u001b[43m(\u001b[49m\n\u001b[1;32m    107\u001b[0m \u001b[43m        \u001b[49m\u001b[43mdata\u001b[49m\u001b[43m,\u001b[49m\u001b[43m \u001b[49m\u001b[43mgate\u001b[49m\u001b[43m,\u001b[49m\u001b[43m \u001b[49m\u001b[43mqubit_idx\u001b[49m\u001b[43m,\u001b[49m\u001b[43m \u001b[49m\u001b[43mnum_qubits\u001b[49m\u001b[43m,\u001b[49m\u001b[43m \u001b[49m\u001b[43mqubit_sequence\u001b[49m\u001b[43m)\u001b[49m\n\u001b[1;32m    108\u001b[0m \u001b[38;5;28;01melif\u001b[39;00m backend \u001b[38;5;241m==\u001b[39m pq\u001b[38;5;241m.\u001b[39mBackend\u001b[38;5;241m.\u001b[39mDensityMatrix:\n\u001b[1;32m    109\u001b[0m     data, qubit_sequence \u001b[38;5;241m=\u001b[39m density_matrix\u001b[38;5;241m.\u001b[39munitary_transformation_without_swapback(\n\u001b[1;32m    110\u001b[0m         data, gate, qubit_idx, num_qubits, qubit_sequence)\n",
      "File \u001b[0;32m~/.tfq/lib/python3.10/site-packages/paddle_quantum/backend/state_vector.py:123\u001b[0m, in \u001b[0;36munitary_transformation_without_swapback\u001b[0;34m(state, gate, qubit_idx, num_qubits, qubit_sequence)\u001b[0m\n\u001b[1;32m    120\u001b[0m seq_for_acted \u001b[38;5;241m=\u001b[39m qubit_idx \u001b[38;5;241m+\u001b[39m \\\n\u001b[1;32m    121\u001b[0m     [x \u001b[38;5;28;01mfor\u001b[39;00m x \u001b[38;5;129;01min\u001b[39;00m qubit_sequence \u001b[38;5;28;01mif\u001b[39;00m x \u001b[38;5;129;01mnot\u001b[39;00m \u001b[38;5;129;01min\u001b[39;00m qubit_idx]\n\u001b[1;32m    122\u001b[0m perm_map \u001b[38;5;241m=\u001b[39m pq\u001b[38;5;241m.\u001b[39mintrinsic\u001b[38;5;241m.\u001b[39m_perm_of_list(qubit_sequence, seq_for_acted)\n\u001b[0;32m--> 123\u001b[0m state \u001b[38;5;241m=\u001b[39m \u001b[43mpq\u001b[49m\u001b[38;5;241;43m.\u001b[39;49m\u001b[43mintrinsic\u001b[49m\u001b[38;5;241;43m.\u001b[39;49m\u001b[43m_base_transpose\u001b[49m\u001b[43m(\u001b[49m\u001b[43mstate\u001b[49m\u001b[43m,\u001b[49m\u001b[43m \u001b[49m\u001b[43mperm_map\u001b[49m\u001b[43m)\u001b[49m\n\u001b[1;32m    125\u001b[0m \u001b[38;5;66;03m# matrix multiplication\u001b[39;00m\n\u001b[1;32m    126\u001b[0m state \u001b[38;5;241m=\u001b[39m paddle\u001b[38;5;241m.\u001b[39mreshape(state, higher_dims\u001b[38;5;241m.\u001b[39mcopy(\n\u001b[1;32m    127\u001b[0m ) \u001b[38;5;241m+\u001b[39m [\u001b[38;5;241m2\u001b[39m \u001b[38;5;241m*\u001b[39m\u001b[38;5;241m*\u001b[39m num_acted_qubits, \u001b[38;5;241m2\u001b[39m \u001b[38;5;241m*\u001b[39m\u001b[38;5;241m*\u001b[39m (num_qubits \u001b[38;5;241m-\u001b[39m num_acted_qubits)])\n",
      "File \u001b[0;32m~/.tfq/lib/python3.10/site-packages/paddle_quantum/intrinsic.py:366\u001b[0m, in \u001b[0;36m_base_transpose\u001b[0;34m(state, perm)\u001b[0m\n\u001b[1;32m    364\u001b[0m \u001b[38;5;66;03m# whether to use batch in state_vector backend. len(state.shape) equals 1 means not using batch\u001b[39;00m\n\u001b[1;32m    365\u001b[0m \u001b[38;5;28;01mif\u001b[39;00m \u001b[38;5;28mlen\u001b[39m(state\u001b[38;5;241m.\u001b[39mshape) \u001b[38;5;241m==\u001b[39m \u001b[38;5;241m1\u001b[39m:\n\u001b[0;32m--> 366\u001b[0m     \u001b[38;5;28;01mreturn\u001b[39;00m \u001b[43m_paddle_gather\u001b[49m\u001b[43m(\u001b[49m\u001b[43mstate\u001b[49m\u001b[43m,\u001b[49m\u001b[43m \u001b[49m\u001b[43mindex\u001b[49m\u001b[38;5;241;43m=\u001b[39;49m\u001b[43mpaddle\u001b[49m\u001b[38;5;241;43m.\u001b[39;49m\u001b[43mto_tensor\u001b[49m\u001b[43m(\u001b[49m\u001b[43mbase_idx\u001b[49m\u001b[43m)\u001b[49m\u001b[43m)\u001b[49m\n\u001b[1;32m    368\u001b[0m state \u001b[38;5;241m=\u001b[39m paddle\u001b[38;5;241m.\u001b[39mreshape(state, [\u001b[38;5;241m-\u001b[39m\u001b[38;5;241m1\u001b[39m, \u001b[38;5;241m2\u001b[39m \u001b[38;5;241m*\u001b[39m\u001b[38;5;241m*\u001b[39m num_qubits])\u001b[38;5;241m.\u001b[39mT\n\u001b[1;32m    369\u001b[0m state \u001b[38;5;241m=\u001b[39m _paddle_gather(state, index\u001b[38;5;241m=\u001b[39mpaddle\u001b[38;5;241m.\u001b[39mto_tensor(base_idx))\n",
      "File \u001b[0;32m~/.tfq/lib/python3.10/site-packages/paddle_quantum/intrinsic.py:345\u001b[0m, in \u001b[0;36m_paddle_gather\u001b[0;34m(data, index)\u001b[0m\n\u001b[1;32m    344\u001b[0m \u001b[38;5;28;01mdef\u001b[39;00m \u001b[38;5;21m_paddle_gather\u001b[39m(data: paddle\u001b[38;5;241m.\u001b[39mTensor, index: paddle\u001b[38;5;241m.\u001b[39mTensor) \u001b[38;5;241m-\u001b[39m\u001b[38;5;241m>\u001b[39m paddle\u001b[38;5;241m.\u001b[39mTensor:\n\u001b[0;32m--> 345\u001b[0m     \u001b[38;5;28;01mreturn\u001b[39;00m \u001b[43mpaddle\u001b[49m\u001b[38;5;241;43m.\u001b[39;49m\u001b[43mgather\u001b[49m\u001b[43m(\u001b[49m\u001b[43mpaddle\u001b[49m\u001b[38;5;241;43m.\u001b[39;49m\u001b[43mreal\u001b[49m\u001b[43m(\u001b[49m\u001b[43mdata\u001b[49m\u001b[43m)\u001b[49m\u001b[43m,\u001b[49m\u001b[43m \u001b[49m\u001b[43mindex\u001b[49m\u001b[38;5;241;43m=\u001b[39;49m\u001b[43mindex\u001b[49m\u001b[43m)\u001b[49m \u001b[38;5;241m+\u001b[39m \\\n\u001b[1;32m    346\u001b[0m            paddle\u001b[38;5;241m.\u001b[39mgather(paddle\u001b[38;5;241m.\u001b[39mimag(data), index\u001b[38;5;241m=\u001b[39mindex) \u001b[38;5;241m*\u001b[39m \u001b[38;5;241m1.\u001b[39mj\n",
      "File \u001b[0;32m~/.tfq/lib/python3.10/site-packages/paddle/tensor/manipulation.py:1413\u001b[0m, in \u001b[0;36mgather\u001b[0;34m(x, index, axis, name)\u001b[0m\n\u001b[1;32m   1411\u001b[0m \u001b[38;5;28;01mif\u001b[39;00m _in_legacy_dygraph():\n\u001b[1;32m   1412\u001b[0m     axis \u001b[38;5;241m=\u001b[39m axis\u001b[38;5;241m.\u001b[39mitem() \u001b[38;5;28;01mif\u001b[39;00m \u001b[38;5;28misinstance\u001b[39m(axis, paddle\u001b[38;5;241m.\u001b[39mTensor) \u001b[38;5;28;01melse\u001b[39;00m axis\n\u001b[0;32m-> 1413\u001b[0m     \u001b[38;5;28;01mreturn\u001b[39;00m \u001b[43m_C_ops\u001b[49m\u001b[38;5;241;43m.\u001b[39;49m\u001b[43mgather\u001b[49m\u001b[43m(\u001b[49m\u001b[43mx\u001b[49m\u001b[43m,\u001b[49m\u001b[43m \u001b[49m\u001b[43mindex\u001b[49m\u001b[43m,\u001b[49m\u001b[43m \u001b[49m\u001b[38;5;28;43;01mNone\u001b[39;49;00m\u001b[43m,\u001b[49m\u001b[43m \u001b[49m\u001b[38;5;124;43m\"\u001b[39;49m\u001b[38;5;124;43maxis\u001b[39;49m\u001b[38;5;124;43m\"\u001b[39;49m\u001b[43m,\u001b[49m\u001b[43m \u001b[49m\u001b[43maxis\u001b[49m\u001b[43m,\u001b[49m\u001b[43m \u001b[49m\u001b[38;5;124;43m\"\u001b[39;49m\u001b[38;5;124;43moverwrite\u001b[39;49m\u001b[38;5;124;43m\"\u001b[39;49m\u001b[43m,\u001b[49m\u001b[43m \u001b[49m\u001b[38;5;28;43;01mFalse\u001b[39;49;00m\u001b[43m)\u001b[49m\n\u001b[1;32m   1415\u001b[0m check_variable_and_dtype(\n\u001b[1;32m   1416\u001b[0m     x, \u001b[38;5;124m'\u001b[39m\u001b[38;5;124mx\u001b[39m\u001b[38;5;124m'\u001b[39m,\n\u001b[1;32m   1417\u001b[0m     [\u001b[38;5;124m'\u001b[39m\u001b[38;5;124mfloat16\u001b[39m\u001b[38;5;124m'\u001b[39m, \u001b[38;5;124m'\u001b[39m\u001b[38;5;124mfloat32\u001b[39m\u001b[38;5;124m'\u001b[39m, \u001b[38;5;124m'\u001b[39m\u001b[38;5;124mfloat64\u001b[39m\u001b[38;5;124m'\u001b[39m, \u001b[38;5;124m'\u001b[39m\u001b[38;5;124mint16\u001b[39m\u001b[38;5;124m'\u001b[39m, \u001b[38;5;124m'\u001b[39m\u001b[38;5;124mint32\u001b[39m\u001b[38;5;124m'\u001b[39m, \u001b[38;5;124m'\u001b[39m\u001b[38;5;124mint64\u001b[39m\u001b[38;5;124m'\u001b[39m, \u001b[38;5;124m'\u001b[39m\u001b[38;5;124muint8\u001b[39m\u001b[38;5;124m'\u001b[39m],\n\u001b[1;32m   1418\u001b[0m     \u001b[38;5;124m'\u001b[39m\u001b[38;5;124mgather\u001b[39m\u001b[38;5;124m'\u001b[39m)\n\u001b[1;32m   1419\u001b[0m check_variable_and_dtype(index, \u001b[38;5;124m'\u001b[39m\u001b[38;5;124mindex\u001b[39m\u001b[38;5;124m'\u001b[39m, [\u001b[38;5;124m'\u001b[39m\u001b[38;5;124mint32\u001b[39m\u001b[38;5;124m'\u001b[39m, \u001b[38;5;124m'\u001b[39m\u001b[38;5;124mint64\u001b[39m\u001b[38;5;124m'\u001b[39m], \u001b[38;5;124m'\u001b[39m\u001b[38;5;124mgather\u001b[39m\u001b[38;5;124m'\u001b[39m)\n",
      "\u001b[0;31mIndexError\u001b[0m: (OutOfRange) The element of Index must be less than the size of input dim size of axis which is 8, but received index element which is 1065353216 in the 0 index.\n  [Hint: Expected p_index[i] < input_size, but received p_index[i]:1065353216 >= input_size:8.] (at /Users/paddle/work/pengyuqi/Paddle/paddle/phi/kernels/funcs/gather.h:83)\n  [operator < gather > error]"
     ]
    }
   ],
   "source": [
    "init_state = pq.state.zero_state(n)\n",
    "angle_quan_state = angle_enc(init_state)\n",
    "\n",
    "print([np.round(i, 2) for i in angle_quan_state.data.numpy()])"
   ]
  },
  {
   "cell_type": "markdown",
   "id": "c13e7bf8",
   "metadata": {},
   "source": [
    "The corresponding state is $\\left|111\\right>$ as we desired.\n",
    "\n",
    "In Paddle Quantum, we also provide a built-in method for angle encoding:"
   ]
  },
  {
   "cell_type": "code",
   "execution_count": 9,
   "id": "af779e74",
   "metadata": {},
   "outputs": [
    {
     "name": "stdout",
     "output_type": "stream",
     "text": [
      "[np.complex64(0j), np.complex64(0j), np.complex64(0j), np.complex64(0j), np.complex64(0j), np.complex64(0j), np.complex64(0j), np.complex64(0j)]\n"
     ]
    }
   ],
   "source": [
    "# Built-in angle encoding\n",
    "# Number of qubits\n",
    "n = 3\n",
    "# Initialize the circuit\n",
    "built_in_angle_enc = AngleEncoding(num_qubits=n, encoding_gate=\"ry\", feature=x)\n",
    "# Classical information x should be of type Tensor\n",
    "x = paddle.to_tensor([np.pi, np.pi, np.pi], 'float64')\n",
    "init_state = pq.state.zero_state(n)\n",
    "state = built_in_angle_enc(state=init_state)\n",
    "\n",
    "print([np.round(i, 2) for i in state.data.numpy()])"
   ]
  },
  {
   "cell_type": "markdown",
   "id": "94d09e5f",
   "metadata": {},
   "source": [
    "## IQP Style Encoding\n",
    "\n",
    "IQP style encoding is a relatively complicated encoding strategy. We encode classical information $\\mathbf{x}$ to \n",
    "\n",
    "$$\n",
    "\\left|\\mathbf{x}\\right> = \\left(\\mathrm{U}_\\mathrm{Z}(\\mathbf{x})\\mathrm{H}^{\\otimes n}\\right)^{r}\\left|0^n\\right>,\n",
    "$$\n",
    "\n",
    "where $r$ is the depth of the circuit, indicating the repeating times of $\\mathrm{U}_\\mathrm{Z}(\\mathbf{x})\\mathrm{H}^{\\otimes n}$. $\\mathrm{H}^{\\otimes n}$ is a layer of Hadamard gates acting on all qubits. $\\mathrm{U}_\\mathrm{Z}(\\mathbf{x})$ is the key step in IQP encoding scheme:\n",
    "\n",
    "$$\n",
    "\\mathrm{U}_\\mathrm{Z}(\\mathbf{x})=\\prod\\limits_{[i,j]\\in S}R_{Z_iZ_j}(x_ix_j)\\bigotimes_{k=1}^{n} R_z(x_k),\n",
    "$$\n",
    "\n",
    "where $S$ is the set containing all pairs of qubits to be entangled using $R_{ZZ}$ gates.\n",
    "\n",
    "First, we consider a simple two-qubit gate: $R_{Z_1Z_2}(\\theta)$. Its mathematical form $e^{-i\\frac{\\theta}{2}Z_1\\otimes Z_2}$ can be seen as a two-qubit rotation gate around ZZ , which makes these two qubits entangled. \n",
    "One can implement this gate using Paddle Quantum as follows:"
   ]
  },
  {
   "cell_type": "code",
   "execution_count": 10,
   "id": "bcde1189",
   "metadata": {},
   "outputs": [
    {
     "name": "stdout",
     "output_type": "stream",
     "text": [
      "--*-----------------*--\n",
      "  |                 |  \n",
      "--x----Rz(0.000)----x--\n",
      "                       \n"
     ]
    }
   ],
   "source": [
    "# Number of qubits\n",
    "n = 2\n",
    "# Initialize the circuit\n",
    "Rzz = Circuit(n)\n",
    "# Theta is the angle of Rzz gate\n",
    "x = paddle.to_tensor([2, 3], 'float64')\n",
    "# Implement Rzz gate\n",
    "Rzz.cnot(qubits_idx=[0, 1])\n",
    "Rzz.rz(qubits_idx=1, param=x[0]*x[1])\n",
    "Rzz.cnot(qubits_idx=[0, 1])\n",
    "        \n",
    "print(Rzz)"
   ]
  },
  {
   "cell_type": "markdown",
   "id": "89c92df4",
   "metadata": {},
   "source": [
    "In $\\mathrm{U}_\\mathrm{Z}$, an $R_{ZZ}$ gate needs to be added between every pair of qubits in set $S$. In our built-in IQP encoding method, users are allowed to define their customized set $S$.\n",
    "\n",
    "Now, let's take a look at how to implement IQP encoding using Paddle Quantum:"
   ]
  },
  {
   "cell_type": "code",
   "execution_count": 12,
   "id": "38f5afac",
   "metadata": {},
   "outputs": [
    {
     "name": "stdout",
     "output_type": "stream",
     "text": [
      "--H----Rz(0.000)----*-----------------*------------------------------------------------\n",
      "                    |                 |                                                \n",
      "--H----Rz(0.000)----x----Rz(0.000)----x----*-----------------*-------------------------\n",
      "                                           |                 |                         \n",
      "--H----Rz(0.000)---------------------------x----Rz(0.000)----x----*-----------------*--\n",
      "                                                                  |                 |  \n",
      "--H----Rz(0.000)--------------------------------------------------x----Rz(0.000)----x--\n",
      "                                                                                       \n"
     ]
    }
   ],
   "source": [
    "# Number of qubits\n",
    "n = 4\n",
    "# Initialize the circuit\n",
    "iqp_enc = Circuit(n)\n",
    "# X is the classical information\n",
    "x = paddle.to_tensor([-1.45, 3, 2, -0.05], 'float64')\n",
    "# S is a list containing all the pairs to be entagled\n",
    "S = [[0, 1], [1, 2], [2, 3]]\n",
    "# r is the repeating times of U\n",
    "r = 1\n",
    "\n",
    "for i in range(r):\n",
    "    # Add a layer of hadamard gates\n",
    "    iqp_enc.h(\"full\")\n",
    "    # Add a layer of rotation z gates\n",
    "    iqp_enc.rz(qubits_idx=\"full\",param=x)\n",
    "    # Add a layer of ZZ gates\n",
    "    for k in S:\n",
    "        iqp_enc.cnot(k)\n",
    "        iqp_enc.rz(qubits_idx=k[1], param=x[k[0]]*x[k[1]])\n",
    "        iqp_enc.cnot(k)\n",
    "            \n",
    "print(iqp_enc)"
   ]
  },
  {
   "cell_type": "markdown",
   "id": "a0e60e87",
   "metadata": {},
   "source": [
    "The corresponding quantum state after IQP style encoding is:"
   ]
  },
  {
   "cell_type": "code",
   "execution_count": 13,
   "id": "187b7ec4",
   "metadata": {},
   "outputs": [
    {
     "ename": "IndexError",
     "evalue": "(OutOfRange) The element of Index must be less than the size of input dim size of axis which is 16, but received index element which is 1065353216 in the 0 index.\n  [Hint: Expected p_index[i] < input_size, but received p_index[i]:1065353216 >= input_size:16.] (at /Users/paddle/work/pengyuqi/Paddle/paddle/phi/kernels/funcs/gather.h:83)\n  [operator < gather > error]",
     "output_type": "error",
     "traceback": [
      "\u001b[0;31m---------------------------------------------------------------------------\u001b[0m",
      "\u001b[0;31mIndexError\u001b[0m                                Traceback (most recent call last)",
      "Cell \u001b[0;32mIn[13], line 2\u001b[0m\n\u001b[1;32m      1\u001b[0m init_state \u001b[38;5;241m=\u001b[39m pq\u001b[38;5;241m.\u001b[39mstate\u001b[38;5;241m.\u001b[39mzero_state(n)\n\u001b[0;32m----> 2\u001b[0m iqp_quantum_state \u001b[38;5;241m=\u001b[39m \u001b[43miqp_enc\u001b[49m\u001b[43m(\u001b[49m\u001b[43minit_state\u001b[49m\u001b[43m)\u001b[49m\n\u001b[1;32m      4\u001b[0m \u001b[38;5;28mprint\u001b[39m([np\u001b[38;5;241m.\u001b[39mround(i, \u001b[38;5;241m5\u001b[39m) \u001b[38;5;28;01mfor\u001b[39;00m i \u001b[38;5;129;01min\u001b[39;00m iqp_quantum_state\u001b[38;5;241m.\u001b[39mdata\u001b[38;5;241m.\u001b[39mnumpy()])\n",
      "File \u001b[0;32m~/.tfq/lib/python3.10/site-packages/paddle/fluid/dygraph/layers.py:930\u001b[0m, in \u001b[0;36mLayer.__call__\u001b[0;34m(self, *inputs, **kwargs)\u001b[0m\n\u001b[1;32m    928\u001b[0m     \u001b[38;5;28;01mreturn\u001b[39;00m \u001b[38;5;28mself\u001b[39m\u001b[38;5;241m.\u001b[39mforward(\u001b[38;5;241m*\u001b[39minputs, \u001b[38;5;241m*\u001b[39m\u001b[38;5;241m*\u001b[39mkwargs)\n\u001b[1;32m    929\u001b[0m \u001b[38;5;28;01melse\u001b[39;00m:\n\u001b[0;32m--> 930\u001b[0m     \u001b[38;5;28;01mreturn\u001b[39;00m \u001b[38;5;28;43mself\u001b[39;49m\u001b[38;5;241;43m.\u001b[39;49m\u001b[43m_dygraph_call_func\u001b[49m\u001b[43m(\u001b[49m\u001b[38;5;241;43m*\u001b[39;49m\u001b[43minputs\u001b[49m\u001b[43m,\u001b[49m\u001b[43m \u001b[49m\u001b[38;5;241;43m*\u001b[39;49m\u001b[38;5;241;43m*\u001b[39;49m\u001b[43mkwargs\u001b[49m\u001b[43m)\u001b[49m\n",
      "File \u001b[0;32m~/.tfq/lib/python3.10/site-packages/paddle/fluid/dygraph/layers.py:915\u001b[0m, in \u001b[0;36mLayer._dygraph_call_func\u001b[0;34m(self, *inputs, **kwargs)\u001b[0m\n\u001b[1;32m    913\u001b[0m         outputs \u001b[38;5;241m=\u001b[39m \u001b[38;5;28mself\u001b[39m\u001b[38;5;241m.\u001b[39mforward(\u001b[38;5;241m*\u001b[39minputs, \u001b[38;5;241m*\u001b[39m\u001b[38;5;241m*\u001b[39mkwargs)\n\u001b[1;32m    914\u001b[0m \u001b[38;5;28;01melse\u001b[39;00m:\n\u001b[0;32m--> 915\u001b[0m     outputs \u001b[38;5;241m=\u001b[39m \u001b[38;5;28;43mself\u001b[39;49m\u001b[38;5;241;43m.\u001b[39;49m\u001b[43mforward\u001b[49m\u001b[43m(\u001b[49m\u001b[38;5;241;43m*\u001b[39;49m\u001b[43minputs\u001b[49m\u001b[43m,\u001b[49m\u001b[43m \u001b[49m\u001b[38;5;241;43m*\u001b[39;49m\u001b[38;5;241;43m*\u001b[39;49m\u001b[43mkwargs\u001b[49m\u001b[43m)\u001b[49m\n\u001b[1;32m    917\u001b[0m \u001b[38;5;28;01mfor\u001b[39;00m forward_post_hook \u001b[38;5;129;01min\u001b[39;00m \u001b[38;5;28mself\u001b[39m\u001b[38;5;241m.\u001b[39m_forward_post_hooks\u001b[38;5;241m.\u001b[39mvalues():\n\u001b[1;32m    918\u001b[0m     hook_result \u001b[38;5;241m=\u001b[39m forward_post_hook(\u001b[38;5;28mself\u001b[39m, inputs, outputs)\n",
      "File \u001b[0;32m~/.tfq/lib/python3.10/site-packages/paddle_quantum/ansatz/circuit.py:1696\u001b[0m, in \u001b[0;36mCircuit.forward\u001b[0;34m(self, state)\u001b[0m\n\u001b[1;32m   1694\u001b[0m state \u001b[38;5;241m=\u001b[39m state\u001b[38;5;241m.\u001b[39mclone()\n\u001b[1;32m   1695\u001b[0m state\u001b[38;5;241m.\u001b[39mis_swap_back \u001b[38;5;241m=\u001b[39m \u001b[38;5;28;01mFalse\u001b[39;00m\n\u001b[0;32m-> 1696\u001b[0m state \u001b[38;5;241m=\u001b[39m \u001b[38;5;28;43msuper\u001b[39;49m\u001b[43m(\u001b[49m\u001b[43m)\u001b[49m\u001b[38;5;241;43m.\u001b[39;49m\u001b[43mforward\u001b[49m\u001b[43m(\u001b[49m\u001b[43mstate\u001b[49m\u001b[43m)\u001b[49m\n\u001b[1;32m   1698\u001b[0m \u001b[38;5;66;03m# reset state in the original qubit sequence\u001b[39;00m\n\u001b[1;32m   1699\u001b[0m state\u001b[38;5;241m.\u001b[39mreset_sequence()\n",
      "File \u001b[0;32m~/.tfq/lib/python3.10/site-packages/paddle_quantum/ansatz/container.py:204\u001b[0m, in \u001b[0;36mSequential.forward\u001b[0;34m(self, state)\u001b[0m\n\u001b[1;32m    195\u001b[0m \u001b[38;5;250m\u001b[39m\u001b[38;5;124mr\u001b[39m\u001b[38;5;124;03m\"\"\" forward the input\u001b[39;00m\n\u001b[1;32m    196\u001b[0m \n\u001b[1;32m    197\u001b[0m \u001b[38;5;124;03mArgs:\u001b[39;00m\n\u001b[0;32m   (...)\u001b[0m\n\u001b[1;32m    201\u001b[0m \u001b[38;5;124;03m    output state\u001b[39;00m\n\u001b[1;32m    202\u001b[0m \u001b[38;5;124;03m\"\"\"\u001b[39;00m\n\u001b[1;32m    203\u001b[0m \u001b[38;5;28;01mfor\u001b[39;00m layer \u001b[38;5;129;01min\u001b[39;00m \u001b[38;5;28mself\u001b[39m\u001b[38;5;241m.\u001b[39m_sub_layers\u001b[38;5;241m.\u001b[39mvalues():\n\u001b[0;32m--> 204\u001b[0m     state \u001b[38;5;241m=\u001b[39m \u001b[43mlayer\u001b[49m\u001b[43m(\u001b[49m\u001b[43mstate\u001b[49m\u001b[43m)\u001b[49m\n\u001b[1;32m    205\u001b[0m \u001b[38;5;28;01mreturn\u001b[39;00m state\n",
      "File \u001b[0;32m~/.tfq/lib/python3.10/site-packages/paddle/fluid/dygraph/layers.py:930\u001b[0m, in \u001b[0;36mLayer.__call__\u001b[0;34m(self, *inputs, **kwargs)\u001b[0m\n\u001b[1;32m    928\u001b[0m     \u001b[38;5;28;01mreturn\u001b[39;00m \u001b[38;5;28mself\u001b[39m\u001b[38;5;241m.\u001b[39mforward(\u001b[38;5;241m*\u001b[39minputs, \u001b[38;5;241m*\u001b[39m\u001b[38;5;241m*\u001b[39mkwargs)\n\u001b[1;32m    929\u001b[0m \u001b[38;5;28;01melse\u001b[39;00m:\n\u001b[0;32m--> 930\u001b[0m     \u001b[38;5;28;01mreturn\u001b[39;00m \u001b[38;5;28;43mself\u001b[39;49m\u001b[38;5;241;43m.\u001b[39;49m\u001b[43m_dygraph_call_func\u001b[49m\u001b[43m(\u001b[49m\u001b[38;5;241;43m*\u001b[39;49m\u001b[43minputs\u001b[49m\u001b[43m,\u001b[49m\u001b[43m \u001b[49m\u001b[38;5;241;43m*\u001b[39;49m\u001b[38;5;241;43m*\u001b[39;49m\u001b[43mkwargs\u001b[49m\u001b[43m)\u001b[49m\n",
      "File \u001b[0;32m~/.tfq/lib/python3.10/site-packages/paddle/fluid/dygraph/layers.py:915\u001b[0m, in \u001b[0;36mLayer._dygraph_call_func\u001b[0;34m(self, *inputs, **kwargs)\u001b[0m\n\u001b[1;32m    913\u001b[0m         outputs \u001b[38;5;241m=\u001b[39m \u001b[38;5;28mself\u001b[39m\u001b[38;5;241m.\u001b[39mforward(\u001b[38;5;241m*\u001b[39minputs, \u001b[38;5;241m*\u001b[39m\u001b[38;5;241m*\u001b[39mkwargs)\n\u001b[1;32m    914\u001b[0m \u001b[38;5;28;01melse\u001b[39;00m:\n\u001b[0;32m--> 915\u001b[0m     outputs \u001b[38;5;241m=\u001b[39m \u001b[38;5;28;43mself\u001b[39;49m\u001b[38;5;241;43m.\u001b[39;49m\u001b[43mforward\u001b[49m\u001b[43m(\u001b[49m\u001b[38;5;241;43m*\u001b[39;49m\u001b[43minputs\u001b[49m\u001b[43m,\u001b[49m\u001b[43m \u001b[49m\u001b[38;5;241;43m*\u001b[39;49m\u001b[38;5;241;43m*\u001b[39;49m\u001b[43mkwargs\u001b[49m\u001b[43m)\u001b[49m\n\u001b[1;32m    917\u001b[0m \u001b[38;5;28;01mfor\u001b[39;00m forward_post_hook \u001b[38;5;129;01min\u001b[39;00m \u001b[38;5;28mself\u001b[39m\u001b[38;5;241m.\u001b[39m_forward_post_hooks\u001b[38;5;241m.\u001b[39mvalues():\n\u001b[1;32m    918\u001b[0m     hook_result \u001b[38;5;241m=\u001b[39m forward_post_hook(\u001b[38;5;28mself\u001b[39m, inputs, outputs)\n",
      "File \u001b[0;32m~/.tfq/lib/python3.10/site-packages/paddle_quantum/gate/base.py:362\u001b[0m, in \u001b[0;36mParamGate.forward\u001b[0;34m(self, state)\u001b[0m\n\u001b[1;32m    360\u001b[0m         param_matrices\u001b[38;5;241m.\u001b[39mappend(param_matrix)\n\u001b[1;32m    361\u001b[0m \u001b[38;5;28;01mif\u001b[39;00m \u001b[38;5;28mself\u001b[39m\u001b[38;5;241m.\u001b[39mnum_acted_qubits \u001b[38;5;241m==\u001b[39m \u001b[38;5;241m1\u001b[39m:\n\u001b[0;32m--> 362\u001b[0m     state \u001b[38;5;241m=\u001b[39m \u001b[38;5;28;43mself\u001b[39;49m\u001b[38;5;241;43m.\u001b[39;49m\u001b[43m_single_qubit_combine_with_threshold6\u001b[49m\u001b[43m(\u001b[49m\n\u001b[1;32m    363\u001b[0m \u001b[43m        \u001b[49m\u001b[43mstate\u001b[49m\u001b[38;5;241;43m=\u001b[39;49m\u001b[43mstate\u001b[49m\u001b[43m,\u001b[49m\u001b[43m \u001b[49m\u001b[43mmatrices\u001b[49m\u001b[38;5;241;43m=\u001b[39;49m\u001b[43mparam_matrices\u001b[49m\u001b[43m)\u001b[49m\n\u001b[1;32m    364\u001b[0m \u001b[38;5;28;01melse\u001b[39;00m:\n\u001b[1;32m    365\u001b[0m     \u001b[38;5;28;01mfor\u001b[39;00m param_idx, qubit_idx \u001b[38;5;129;01min\u001b[39;00m \u001b[38;5;28menumerate\u001b[39m(\u001b[38;5;28mself\u001b[39m\u001b[38;5;241m.\u001b[39mqubits_idx):\n",
      "File \u001b[0;32m~/.tfq/lib/python3.10/site-packages/paddle_quantum/gate/base.py:196\u001b[0m, in \u001b[0;36mGate._single_qubit_combine_with_threshold6\u001b[0;34m(self, state, matrices)\u001b[0m\n\u001b[1;32m    194\u001b[0m \u001b[38;5;28;01mif\u001b[39;00m tensor_left \u001b[38;5;241m>\u001b[39m \u001b[38;5;241m0\u001b[39m:\n\u001b[1;32m    195\u001b[0m     idx_st \u001b[38;5;241m=\u001b[39m tensor_times \u001b[38;5;241m*\u001b[39m threshold_qubits\n\u001b[0;32m--> 196\u001b[0m     state \u001b[38;5;241m=\u001b[39m \u001b[43msimulation\u001b[49m\u001b[43m(\u001b[49m\n\u001b[1;32m    197\u001b[0m \u001b[43m        \u001b[49m\u001b[43mstate\u001b[49m\u001b[43m,\u001b[49m\u001b[43m \u001b[49m\u001b[43mmatrices\u001b[49m\u001b[43m[\u001b[49m\u001b[43midx_st\u001b[49m\u001b[43m:\u001b[49m\u001b[43m]\u001b[49m\u001b[43m,\u001b[49m\u001b[43m \u001b[49m\u001b[38;5;28;43mself\u001b[39;49m\u001b[38;5;241;43m.\u001b[39;49m\u001b[43mqubits_idx\u001b[49m\u001b[43m[\u001b[49m\u001b[43midx_st\u001b[49m\u001b[43m:\u001b[49m\u001b[43m]\u001b[49m\u001b[43m)\u001b[49m\n\u001b[1;32m    198\u001b[0m \u001b[38;5;28;01mreturn\u001b[39;00m state\n",
      "File \u001b[0;32m~/.tfq/lib/python3.10/site-packages/paddle_quantum/gate/functional/base.py:52\u001b[0m, in \u001b[0;36msimulation\u001b[0;34m(state, gate, qubit_idx)\u001b[0m\n\u001b[1;32m     49\u001b[0m         state \u001b[38;5;241m=\u001b[39m __simulation_with_swapback(state, gate[\u001b[38;5;241m0\u001b[39m], qubit_idx)\n\u001b[1;32m     50\u001b[0m     \u001b[38;5;28;01mreturn\u001b[39;00m state\n\u001b[0;32m---> 52\u001b[0m \u001b[38;5;28;01mreturn\u001b[39;00m \u001b[43m__simulation_without_swapback\u001b[49m\u001b[43m(\u001b[49m\u001b[43mstate\u001b[49m\u001b[43m,\u001b[49m\u001b[43m \u001b[49m\u001b[43mgate\u001b[49m\u001b[43m,\u001b[49m\u001b[43m \u001b[49m\u001b[43mqubit_idx\u001b[49m\u001b[43m)\u001b[49m\n",
      "File \u001b[0;32m~/.tfq/lib/python3.10/site-packages/paddle_quantum/gate/functional/base.py:106\u001b[0m, in \u001b[0;36m__simulation_without_swapback\u001b[0;34m(state, gate, qubit_idx)\u001b[0m\n\u001b[1;32m    103\u001b[0m qubit_sequence \u001b[38;5;241m=\u001b[39m state\u001b[38;5;241m.\u001b[39mqubit_sequence\n\u001b[1;32m    105\u001b[0m \u001b[38;5;28;01mif\u001b[39;00m backend \u001b[38;5;241m==\u001b[39m pq\u001b[38;5;241m.\u001b[39mBackend\u001b[38;5;241m.\u001b[39mStateVector:\n\u001b[0;32m--> 106\u001b[0m     data, qubit_sequence \u001b[38;5;241m=\u001b[39m \u001b[43mstate_vector\u001b[49m\u001b[38;5;241;43m.\u001b[39;49m\u001b[43munitary_transformation_without_swapback\u001b[49m\u001b[43m(\u001b[49m\n\u001b[1;32m    107\u001b[0m \u001b[43m        \u001b[49m\u001b[43mdata\u001b[49m\u001b[43m,\u001b[49m\u001b[43m \u001b[49m\u001b[43mgate\u001b[49m\u001b[43m,\u001b[49m\u001b[43m \u001b[49m\u001b[43mqubit_idx\u001b[49m\u001b[43m,\u001b[49m\u001b[43m \u001b[49m\u001b[43mnum_qubits\u001b[49m\u001b[43m,\u001b[49m\u001b[43m \u001b[49m\u001b[43mqubit_sequence\u001b[49m\u001b[43m)\u001b[49m\n\u001b[1;32m    108\u001b[0m \u001b[38;5;28;01melif\u001b[39;00m backend \u001b[38;5;241m==\u001b[39m pq\u001b[38;5;241m.\u001b[39mBackend\u001b[38;5;241m.\u001b[39mDensityMatrix:\n\u001b[1;32m    109\u001b[0m     data, qubit_sequence \u001b[38;5;241m=\u001b[39m density_matrix\u001b[38;5;241m.\u001b[39munitary_transformation_without_swapback(\n\u001b[1;32m    110\u001b[0m         data, gate, qubit_idx, num_qubits, qubit_sequence)\n",
      "File \u001b[0;32m~/.tfq/lib/python3.10/site-packages/paddle_quantum/backend/state_vector.py:123\u001b[0m, in \u001b[0;36munitary_transformation_without_swapback\u001b[0;34m(state, gate, qubit_idx, num_qubits, qubit_sequence)\u001b[0m\n\u001b[1;32m    120\u001b[0m seq_for_acted \u001b[38;5;241m=\u001b[39m qubit_idx \u001b[38;5;241m+\u001b[39m \\\n\u001b[1;32m    121\u001b[0m     [x \u001b[38;5;28;01mfor\u001b[39;00m x \u001b[38;5;129;01min\u001b[39;00m qubit_sequence \u001b[38;5;28;01mif\u001b[39;00m x \u001b[38;5;129;01mnot\u001b[39;00m \u001b[38;5;129;01min\u001b[39;00m qubit_idx]\n\u001b[1;32m    122\u001b[0m perm_map \u001b[38;5;241m=\u001b[39m pq\u001b[38;5;241m.\u001b[39mintrinsic\u001b[38;5;241m.\u001b[39m_perm_of_list(qubit_sequence, seq_for_acted)\n\u001b[0;32m--> 123\u001b[0m state \u001b[38;5;241m=\u001b[39m \u001b[43mpq\u001b[49m\u001b[38;5;241;43m.\u001b[39;49m\u001b[43mintrinsic\u001b[49m\u001b[38;5;241;43m.\u001b[39;49m\u001b[43m_base_transpose\u001b[49m\u001b[43m(\u001b[49m\u001b[43mstate\u001b[49m\u001b[43m,\u001b[49m\u001b[43m \u001b[49m\u001b[43mperm_map\u001b[49m\u001b[43m)\u001b[49m\n\u001b[1;32m    125\u001b[0m \u001b[38;5;66;03m# matrix multiplication\u001b[39;00m\n\u001b[1;32m    126\u001b[0m state \u001b[38;5;241m=\u001b[39m paddle\u001b[38;5;241m.\u001b[39mreshape(state, higher_dims\u001b[38;5;241m.\u001b[39mcopy(\n\u001b[1;32m    127\u001b[0m ) \u001b[38;5;241m+\u001b[39m [\u001b[38;5;241m2\u001b[39m \u001b[38;5;241m*\u001b[39m\u001b[38;5;241m*\u001b[39m num_acted_qubits, \u001b[38;5;241m2\u001b[39m \u001b[38;5;241m*\u001b[39m\u001b[38;5;241m*\u001b[39m (num_qubits \u001b[38;5;241m-\u001b[39m num_acted_qubits)])\n",
      "File \u001b[0;32m~/.tfq/lib/python3.10/site-packages/paddle_quantum/intrinsic.py:366\u001b[0m, in \u001b[0;36m_base_transpose\u001b[0;34m(state, perm)\u001b[0m\n\u001b[1;32m    364\u001b[0m \u001b[38;5;66;03m# whether to use batch in state_vector backend. len(state.shape) equals 1 means not using batch\u001b[39;00m\n\u001b[1;32m    365\u001b[0m \u001b[38;5;28;01mif\u001b[39;00m \u001b[38;5;28mlen\u001b[39m(state\u001b[38;5;241m.\u001b[39mshape) \u001b[38;5;241m==\u001b[39m \u001b[38;5;241m1\u001b[39m:\n\u001b[0;32m--> 366\u001b[0m     \u001b[38;5;28;01mreturn\u001b[39;00m \u001b[43m_paddle_gather\u001b[49m\u001b[43m(\u001b[49m\u001b[43mstate\u001b[49m\u001b[43m,\u001b[49m\u001b[43m \u001b[49m\u001b[43mindex\u001b[49m\u001b[38;5;241;43m=\u001b[39;49m\u001b[43mpaddle\u001b[49m\u001b[38;5;241;43m.\u001b[39;49m\u001b[43mto_tensor\u001b[49m\u001b[43m(\u001b[49m\u001b[43mbase_idx\u001b[49m\u001b[43m)\u001b[49m\u001b[43m)\u001b[49m\n\u001b[1;32m    368\u001b[0m state \u001b[38;5;241m=\u001b[39m paddle\u001b[38;5;241m.\u001b[39mreshape(state, [\u001b[38;5;241m-\u001b[39m\u001b[38;5;241m1\u001b[39m, \u001b[38;5;241m2\u001b[39m \u001b[38;5;241m*\u001b[39m\u001b[38;5;241m*\u001b[39m num_qubits])\u001b[38;5;241m.\u001b[39mT\n\u001b[1;32m    369\u001b[0m state \u001b[38;5;241m=\u001b[39m _paddle_gather(state, index\u001b[38;5;241m=\u001b[39mpaddle\u001b[38;5;241m.\u001b[39mto_tensor(base_idx))\n",
      "File \u001b[0;32m~/.tfq/lib/python3.10/site-packages/paddle_quantum/intrinsic.py:345\u001b[0m, in \u001b[0;36m_paddle_gather\u001b[0;34m(data, index)\u001b[0m\n\u001b[1;32m    344\u001b[0m \u001b[38;5;28;01mdef\u001b[39;00m \u001b[38;5;21m_paddle_gather\u001b[39m(data: paddle\u001b[38;5;241m.\u001b[39mTensor, index: paddle\u001b[38;5;241m.\u001b[39mTensor) \u001b[38;5;241m-\u001b[39m\u001b[38;5;241m>\u001b[39m paddle\u001b[38;5;241m.\u001b[39mTensor:\n\u001b[0;32m--> 345\u001b[0m     \u001b[38;5;28;01mreturn\u001b[39;00m \u001b[43mpaddle\u001b[49m\u001b[38;5;241;43m.\u001b[39;49m\u001b[43mgather\u001b[49m\u001b[43m(\u001b[49m\u001b[43mpaddle\u001b[49m\u001b[38;5;241;43m.\u001b[39;49m\u001b[43mreal\u001b[49m\u001b[43m(\u001b[49m\u001b[43mdata\u001b[49m\u001b[43m)\u001b[49m\u001b[43m,\u001b[49m\u001b[43m \u001b[49m\u001b[43mindex\u001b[49m\u001b[38;5;241;43m=\u001b[39;49m\u001b[43mindex\u001b[49m\u001b[43m)\u001b[49m \u001b[38;5;241m+\u001b[39m \\\n\u001b[1;32m    346\u001b[0m            paddle\u001b[38;5;241m.\u001b[39mgather(paddle\u001b[38;5;241m.\u001b[39mimag(data), index\u001b[38;5;241m=\u001b[39mindex) \u001b[38;5;241m*\u001b[39m \u001b[38;5;241m1.\u001b[39mj\n",
      "File \u001b[0;32m~/.tfq/lib/python3.10/site-packages/paddle/tensor/manipulation.py:1413\u001b[0m, in \u001b[0;36mgather\u001b[0;34m(x, index, axis, name)\u001b[0m\n\u001b[1;32m   1411\u001b[0m \u001b[38;5;28;01mif\u001b[39;00m _in_legacy_dygraph():\n\u001b[1;32m   1412\u001b[0m     axis \u001b[38;5;241m=\u001b[39m axis\u001b[38;5;241m.\u001b[39mitem() \u001b[38;5;28;01mif\u001b[39;00m \u001b[38;5;28misinstance\u001b[39m(axis, paddle\u001b[38;5;241m.\u001b[39mTensor) \u001b[38;5;28;01melse\u001b[39;00m axis\n\u001b[0;32m-> 1413\u001b[0m     \u001b[38;5;28;01mreturn\u001b[39;00m \u001b[43m_C_ops\u001b[49m\u001b[38;5;241;43m.\u001b[39;49m\u001b[43mgather\u001b[49m\u001b[43m(\u001b[49m\u001b[43mx\u001b[49m\u001b[43m,\u001b[49m\u001b[43m \u001b[49m\u001b[43mindex\u001b[49m\u001b[43m,\u001b[49m\u001b[43m \u001b[49m\u001b[38;5;28;43;01mNone\u001b[39;49;00m\u001b[43m,\u001b[49m\u001b[43m \u001b[49m\u001b[38;5;124;43m\"\u001b[39;49m\u001b[38;5;124;43maxis\u001b[39;49m\u001b[38;5;124;43m\"\u001b[39;49m\u001b[43m,\u001b[49m\u001b[43m \u001b[49m\u001b[43maxis\u001b[49m\u001b[43m,\u001b[49m\u001b[43m \u001b[49m\u001b[38;5;124;43m\"\u001b[39;49m\u001b[38;5;124;43moverwrite\u001b[39;49m\u001b[38;5;124;43m\"\u001b[39;49m\u001b[43m,\u001b[49m\u001b[43m \u001b[49m\u001b[38;5;28;43;01mFalse\u001b[39;49;00m\u001b[43m)\u001b[49m\n\u001b[1;32m   1415\u001b[0m check_variable_and_dtype(\n\u001b[1;32m   1416\u001b[0m     x, \u001b[38;5;124m'\u001b[39m\u001b[38;5;124mx\u001b[39m\u001b[38;5;124m'\u001b[39m,\n\u001b[1;32m   1417\u001b[0m     [\u001b[38;5;124m'\u001b[39m\u001b[38;5;124mfloat16\u001b[39m\u001b[38;5;124m'\u001b[39m, \u001b[38;5;124m'\u001b[39m\u001b[38;5;124mfloat32\u001b[39m\u001b[38;5;124m'\u001b[39m, \u001b[38;5;124m'\u001b[39m\u001b[38;5;124mfloat64\u001b[39m\u001b[38;5;124m'\u001b[39m, \u001b[38;5;124m'\u001b[39m\u001b[38;5;124mint16\u001b[39m\u001b[38;5;124m'\u001b[39m, \u001b[38;5;124m'\u001b[39m\u001b[38;5;124mint32\u001b[39m\u001b[38;5;124m'\u001b[39m, \u001b[38;5;124m'\u001b[39m\u001b[38;5;124mint64\u001b[39m\u001b[38;5;124m'\u001b[39m, \u001b[38;5;124m'\u001b[39m\u001b[38;5;124muint8\u001b[39m\u001b[38;5;124m'\u001b[39m],\n\u001b[1;32m   1418\u001b[0m     \u001b[38;5;124m'\u001b[39m\u001b[38;5;124mgather\u001b[39m\u001b[38;5;124m'\u001b[39m)\n\u001b[1;32m   1419\u001b[0m check_variable_and_dtype(index, \u001b[38;5;124m'\u001b[39m\u001b[38;5;124mindex\u001b[39m\u001b[38;5;124m'\u001b[39m, [\u001b[38;5;124m'\u001b[39m\u001b[38;5;124mint32\u001b[39m\u001b[38;5;124m'\u001b[39m, \u001b[38;5;124m'\u001b[39m\u001b[38;5;124mint64\u001b[39m\u001b[38;5;124m'\u001b[39m], \u001b[38;5;124m'\u001b[39m\u001b[38;5;124mgather\u001b[39m\u001b[38;5;124m'\u001b[39m)\n",
      "\u001b[0;31mIndexError\u001b[0m: (OutOfRange) The element of Index must be less than the size of input dim size of axis which is 16, but received index element which is 1065353216 in the 0 index.\n  [Hint: Expected p_index[i] < input_size, but received p_index[i]:1065353216 >= input_size:16.] (at /Users/paddle/work/pengyuqi/Paddle/paddle/phi/kernels/funcs/gather.h:83)\n  [operator < gather > error]"
     ]
    }
   ],
   "source": [
    "init_state = pq.state.zero_state(n)\n",
    "iqp_quantum_state = iqp_enc(init_state)\n",
    "\n",
    "print([np.round(i, 5) for i in iqp_quantum_state.data.numpy()])"
   ]
  },
  {
   "cell_type": "markdown",
   "id": "9aee1dcb",
   "metadata": {},
   "source": [
    "In Paddle Quantum, we provide a built-in IQP encoding method that exactly follows the way we explained above. However, this is just a particular case for IQP style encoding. IQP style encoding can refer \n",
    "to a more general class of encoding schemes. For example, you can replace the rotation Z gate with rotation X gate or rotation Y gate and replace $R_{ZZ}$ gate with $R_{XX}$ gate or $R_{YY}$ gate. Besides, you can think of three-qubit rotation gates, and add more layers with these three-qubit rotation gates."
   ]
  },
  {
   "cell_type": "code",
   "execution_count": 14,
   "id": "a81b03cb",
   "metadata": {},
   "outputs": [
    {
     "name": "stdout",
     "output_type": "stream",
     "text": [
      "[np.complex64(0j), np.complex64(0j), np.complex64(0j), np.complex64(0j), np.complex64(0j), np.complex64(0j), np.complex64(0j), np.complex64(0j), np.complex64(0j), np.complex64(0j), np.complex64(0j), np.complex64(0j), np.complex64(0j), np.complex64(0j), np.complex64(0j), np.complex64(0j)]\n"
     ]
    }
   ],
   "source": [
    "# Built-in IQP style encoding\n",
    "# Number of qubits\n",
    "n = 4\n",
    "# Initialize the circuit\n",
    "# r is the repeating times of U\n",
    "r = 1\n",
    "# S is a list containing all the pairs to be entagled\n",
    "S = [[0, 1], [1, 2], [2, 3]]\n",
    "built_in_iqp_enc = IQPEncoding(qubits_idx=S, num_qubits = n, num_repeat=r, feature=x)\n",
    "# Classical information x should be of type Tensor\n",
    "x = paddle.to_tensor([-1.45, 3, 2, -0.05], 'float64')\n",
    "init_state = pq.state.zero_state(n)\n",
    "built_in_iqp_enc_state = built_in_iqp_enc(state=init_state)\n",
    "\n",
    "print([np.round(i, 5) for i in built_in_iqp_enc_state.data.numpy()])"
   ]
  },
  {
   "cell_type": "markdown",
   "id": "251975b7",
   "metadata": {},
   "source": [
    "## Hamiltonian Evolution Ansatz Encoding\n",
    "\n",
    "Hamiltonian evolution ansatz encoding, which uses a Trotter formula to approximate an evolution, has been explored in obtaining the ground state of a Hubbard model [4].\n",
    "\n",
    "$$\n",
    "\\left|\\mathbf{x}\\right> = \\left(\\prod\\limits_{i=1}^{n}R_{Z_iZ_{i+1}}(\\frac{t}{T}x_{i})R_{Y_iY_{i+1}}(\\frac{t}{T}x_{i})R_{X_iX_{i+1}}(\\frac{t}{T}x_{i})\\right)^{T}\\bigotimes_{i=1}^{n+1}\\left|\\psi_{i}\\right>,\n",
    "$$\n",
    "\n",
    "where $R_{XX}, R_{YY}, R_{ZZ}$ are the same rotation gates described in IQP style encoding, T is the number of Trotter steps, and $\\left|\\psi_{i}\\right>$ is a Haar-random single-qubit quantum state.\n",
    "You can implement this encoding by applying T layers of $R_{XX}, R_{YY}, R_{ZZ}$ gates to the prepared Haar-random quantum state."
   ]
  },
  {
   "cell_type": "markdown",
   "id": "b4dddb79",
   "metadata": {},
   "source": [
    "---\n",
    "\n",
    "## References\n",
    "\n",
    "[1] Schuld, Maria. \"Quantum machine learning models are kernel methods.\" [arXiv:2101.11020 (2021).](https://arxiv.org/abs/2101.11020)\n",
    "\n",
    "[2] Havlíček, Vojtěch, et al. \"Supervised learning with quantum-enhanced feature spaces.\" [Nature 567.7747 (2019): 209-212.](https://www.nature.com/articles/s41586-019-0980-2)\n",
    "\n",
    "[3] Huang, Hsin-Yuan, et al. \"Power of data in quantum machine learning.\" [Nature Communications 12.1 (2021): 1-9.](https://www.nature.com/articles/s41467-021-22539-9)\n",
    "\n",
    "[4] Cade, Chris, et al. \"Strategies for solving the Fermi-Hubbard model on near-term quantum computers.\" [Physical Review B 102.23 (2020): 235122.](https://journals.aps.org/prb/abstract/10.1103/PhysRevB.102.235122)"
   ]
  }
 ],
 "metadata": {
  "kernelspec": {
   "display_name": ".tfq",
   "language": "python",
   "name": "python3"
  },
  "language_info": {
   "codemirror_mode": {
    "name": "ipython",
    "version": 3
   },
   "file_extension": ".py",
   "mimetype": "text/x-python",
   "name": "python",
   "nbconvert_exporter": "python",
   "pygments_lexer": "ipython3",
   "version": "3.10.16"
  }
 },
 "nbformat": 4,
 "nbformat_minor": 5
}
