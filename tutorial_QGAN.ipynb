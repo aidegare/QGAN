{
 "cells": [
  {
   "cell_type": "code",
   "execution_count": null,
   "metadata": {},
   "outputs": [],
   "source": [
    "# This cell is added by sphinx-gallery\n",
    "# It can be customized to whatever you like\n",
    "%matplotlib inline"
   ]
  },
  {
   "cell_type": "markdown",
   "metadata": {},
   "source": [
    "Quantum generative adversarial networks with Cirq + TensorFlow {#quantum_GAN}\n",
    "==============================================================\n",
    "\n",
    "::: {.meta}\n",
    ":property=\\\"og:description\\\": This demo constructs and trains a Quantum\n",
    "Generative Adversarial Network (QGAN) using PennyLane, Cirq, and\n",
    "TensorFlow. :property=\\\"og:image\\\":\n",
    "<https://pennylane.ai/qml/_static/demonstration_assets/qgan3.png>\n",
    ":::\n",
    "\n",
    "*Author: Nathan Killoran --- Posted: 11 October 2019. Last updated: 30\n",
    "January 2023.*\n",
    "\n",
    "This demo constructs a Quantum Generative Adversarial Network (QGAN)\n",
    "([Lloyd and Weedbrook\n",
    "(2018)](https://journals.aps.org/prl/abstract/10.1103/PhysRevLett.121.040502),\n",
    "[Dallaire-Demers and Killoran\n",
    "(2018)](https://journals.aps.org/pra/abstract/10.1103/PhysRevA.98.012324))\n",
    "using two subcircuits, a *generator* and a *discriminator*. The\n",
    "generator attempts to generate synthetic quantum data to match a pattern\n",
    "of \\\"real\\\" data, while the discriminator tries to discern real data\n",
    "from fake data (see image below). The gradient of the discriminator's\n",
    "output provides a training signal for the generator to improve its fake\n",
    "generated data.\n",
    "\n",
    "| \n",
    "\n",
    "![](../_static/demonstration_assets/QGAN/qgan.png){.align-center\n",
    "width=\"75.0%\"}\n",
    "\n",
    "| \n"
   ]
  },
  {
   "cell_type": "markdown",
   "metadata": {},
   "source": [
    "Using Cirq + TensorFlow\n",
    "=======================\n",
    "\n",
    "PennyLane allows us to mix and match quantum devices and classical\n",
    "machine learning software. For this demo, we will link together\n",
    "Google\\'s [Cirq](https://cirq.readthedocs.io/en/stable/) and\n",
    "[TensorFlow](https://www.tensorflow.org/) libraries.\n",
    "\n",
    "We begin by importing PennyLane, NumPy, and TensorFlow.\n"
   ]
  },
  {
   "cell_type": "code",
   "execution_count": 4,
   "metadata": {},
   "outputs": [],
   "source": [
    "import numpy as np\n",
    "import pennylane as qml\n",
    "import tensorflow as tf"
   ]
  },
  {
   "cell_type": "markdown",
   "metadata": {},
   "source": [
    "We also declare a 3-qubit simulator device running in Cirq.\n"
   ]
  },
  {
   "cell_type": "code",
   "execution_count": 5,
   "metadata": {},
   "outputs": [],
   "source": [
    "dev = qml.device('cirq.simulator', wires=3)"
   ]
  },
  {
   "cell_type": "markdown",
   "metadata": {},
   "source": [
    "Generator and Discriminator\n",
    "===========================\n",
    "\n",
    "In classical GANs, the starting point is to draw samples either from\n",
    "some \\\"real data\\\" distribution, or from the generator, and feed them to\n",
    "the discriminator. In this QGAN example, we will use a quantum circuit\n",
    "to generate the real data.\n",
    "\n",
    "For this simple example, our real data will be a qubit that has been\n",
    "rotated (from the starting state $\\left|0\\right\\rangle$) to some\n",
    "arbitrary, but fixed, state.\n"
   ]
  },
  {
   "cell_type": "code",
   "execution_count": 6,
   "metadata": {},
   "outputs": [],
   "source": [
    "def real(angles, **kwargs):\n",
    "    qml.Hadamard(wires=0)\n",
    "    qml.Rot(*angles, wires=0)"
   ]
  },
  {
   "cell_type": "markdown",
   "metadata": {},
   "source": [
    "For the generator and discriminator, we will choose the same basic\n",
    "circuit structure, but acting on different wires.\n",
    "\n",
    "Both the real data circuit and the generator will output on wire 0,\n",
    "which will be connected as an input to the discriminator. Wire 1 is\n",
    "provided as a workspace for the generator, while the discriminator's\n",
    "output will be on wire 2.\n"
   ]
  },
  {
   "cell_type": "code",
   "execution_count": 7,
   "metadata": {},
   "outputs": [],
   "source": [
    "def generator(w, **kwargs):\n",
    "    qml.Hadamard(wires=0)\n",
    "    qml.RX(w[0], wires=0)\n",
    "    qml.RX(w[1], wires=1)\n",
    "    qml.RY(w[2], wires=0)\n",
    "    qml.RY(w[3], wires=1)\n",
    "    qml.RZ(w[4], wires=0)\n",
    "    qml.RZ(w[5], wires=1)\n",
    "    qml.CNOT(wires=[0, 1])\n",
    "    qml.RX(w[6], wires=0)\n",
    "    qml.RY(w[7], wires=0)\n",
    "    qml.RZ(w[8], wires=0)\n",
    "\n",
    "\n",
    "def discriminator(w):\n",
    "    qml.Hadamard(wires=0)\n",
    "    qml.RX(w[0], wires=0)\n",
    "    qml.RX(w[1], wires=2)\n",
    "    qml.RY(w[2], wires=0)\n",
    "    qml.RY(w[3], wires=2)\n",
    "    qml.RZ(w[4], wires=0)\n",
    "    qml.RZ(w[5], wires=2)\n",
    "    qml.CNOT(wires=[0, 2])\n",
    "    qml.RX(w[6], wires=2)\n",
    "    qml.RY(w[7], wires=2)\n",
    "    qml.RZ(w[8], wires=2)"
   ]
  },
  {
   "cell_type": "markdown",
   "metadata": {},
   "source": [
    "We create two QNodes. One where the real data source is wired up to the\n",
    "discriminator, and one where the generator is connected to the\n",
    "discriminator.\n"
   ]
  },
  {
   "cell_type": "code",
   "execution_count": 8,
   "metadata": {},
   "outputs": [],
   "source": [
    "@qml.qnode(dev)\n",
    "def real_disc_circuit(phi, theta, omega, disc_weights):\n",
    "    real([phi, theta, omega])\n",
    "    discriminator(disc_weights)\n",
    "    return qml.expval(qml.PauliZ(2))\n",
    "\n",
    "\n",
    "@qml.qnode(dev)\n",
    "def gen_disc_circuit(gen_weights, disc_weights):\n",
    "    generator(gen_weights)\n",
    "    discriminator(disc_weights)\n",
    "    return qml.expval(qml.PauliZ(2))"
   ]
  },
  {
   "cell_type": "markdown",
   "metadata": {},
   "source": [
    "QGAN cost functions\n",
    "===================\n",
    "\n",
    "There are two cost functions of interest, corresponding to the two\n",
    "stages of QGAN training. These cost functions are built from two pieces:\n",
    "the first piece is the probability that the discriminator correctly\n",
    "classifies real data as real. The second piece is the probability that\n",
    "the discriminator classifies fake data (i.e., a state prepared by the\n",
    "generator) as real.\n",
    "\n",
    "The discriminator is trained to maximize the probability of correctly\n",
    "classifying real data, while minimizing the probability of mistakenly\n",
    "classifying fake data.\n",
    "\n",
    "$$Cost_D = \\mathrm{Pr}(real|\\mathrm{fake}) - \\mathrm{Pr}(real|\\mathrm{real})$$\n",
    "\n",
    "The generator is trained to maximize the probability that the\n",
    "discriminator accepts fake data as real.\n",
    "\n",
    "$$Cost_G = - \\mathrm{Pr}(real|\\mathrm{fake})$$\n"
   ]
  },
  {
   "cell_type": "code",
   "execution_count": 9,
   "metadata": {},
   "outputs": [],
   "source": [
    "def prob_real_true(disc_weights):\n",
    "    true_disc_output = real_disc_circuit(phi, theta, omega, disc_weights)\n",
    "    # convert to probability\n",
    "    prob_real_true = (true_disc_output + 1) / 2\n",
    "    return prob_real_true\n",
    "\n",
    "\n",
    "def prob_fake_true(gen_weights, disc_weights):\n",
    "    fake_disc_output = gen_disc_circuit(gen_weights, disc_weights)\n",
    "    # convert to probability\n",
    "    prob_fake_true = (fake_disc_output + 1) / 2\n",
    "    return prob_fake_true\n",
    "\n",
    "\n",
    "def disc_cost(disc_weights):\n",
    "    cost = prob_fake_true(gen_weights, disc_weights) - prob_real_true(disc_weights)\n",
    "    return cost\n",
    "\n",
    "\n",
    "def gen_cost(gen_weights):\n",
    "    return -prob_fake_true(gen_weights, disc_weights)"
   ]
  },
  {
   "cell_type": "markdown",
   "metadata": {},
   "source": [
    "Training the QGAN\n",
    "=================\n",
    "\n",
    "We initialize the fixed angles of the \\\"real data\\\" circuit, as well as\n",
    "the initial parameters for both generator and discriminator. These are\n",
    "chosen so that the generator initially prepares a state on wire 0 that\n",
    "is very close to the $\\left| 1 \\right\\rangle$ state.\n"
   ]
  },
  {
   "cell_type": "code",
   "execution_count": 10,
   "metadata": {},
   "outputs": [],
   "source": [
    "phi = np.pi / 6\n",
    "theta = np.pi / 2\n",
    "omega = np.pi / 7\n",
    "np.random.seed(0)\n",
    "eps = 1e-2\n",
    "init_gen_weights = np.array([np.pi] + [0] * 8) + \\\n",
    "                   np.random.normal(scale=eps, size=(9,))\n",
    "init_disc_weights = np.random.normal(size=(9,))\n",
    "\n",
    "gen_weights = tf.Variable(init_gen_weights)\n",
    "disc_weights = tf.Variable(init_disc_weights)"
   ]
  },
  {
   "cell_type": "markdown",
   "metadata": {},
   "source": [
    "We begin by creating the optimizer:\n"
   ]
  },
  {
   "cell_type": "code",
   "execution_count": 12,
   "metadata": {},
   "outputs": [],
   "source": [
    "opt = tf.keras.optimizers.SGD(0.4)\n",
    "opt.build([disc_weights, gen_weights])"
   ]
  },
  {
   "cell_type": "markdown",
   "metadata": {},
   "source": [
    "In the first stage of training, we optimize the discriminator while\n",
    "keeping the generator parameters fixed.\n"
   ]
  },
  {
   "cell_type": "code",
   "execution_count": 13,
   "metadata": {},
   "outputs": [
    {
     "name": "stdout",
     "output_type": "stream",
     "text": [
      "Step 0: cost = -0.05727696418762207\n",
      "Step 5: cost = -0.2634812220931053\n",
      "Step 10: cost = -0.427391842007637\n",
      "Step 15: cost = -0.47261592000722885\n",
      "Step 20: cost = -0.4840690791606903\n",
      "Step 25: cost = -0.48946405202150345\n",
      "Step 30: cost = -0.4928187355399132\n",
      "Step 35: cost = -0.4949492886662483\n",
      "Step 40: cost = -0.4962702989578247\n",
      "Step 45: cost = -0.49707207828760147\n"
     ]
    }
   ],
   "source": [
    "cost = lambda: disc_cost(disc_weights)\n",
    "\n",
    "for step in range(50):\n",
    "    opt.minimize(cost, [disc_weights])\n",
    "    if step % 5 == 0:\n",
    "        cost_val = cost().numpy()\n",
    "        print(\"Step {}: cost = {}\".format(step, cost_val))"
   ]
  },
  {
   "cell_type": "markdown",
   "metadata": {},
   "source": [
    "At the discriminator's optimum, the probability for the discriminator to\n",
    "correctly classify the real data should be close to one.\n"
   ]
  },
  {
   "cell_type": "code",
   "execution_count": 14,
   "metadata": {},
   "outputs": [
    {
     "name": "stdout",
     "output_type": "stream",
     "text": [
      "Prob(real classified as real):  0.9985873401165009\n"
     ]
    }
   ],
   "source": [
    "print(\"Prob(real classified as real): \", prob_real_true(disc_weights).numpy())"
   ]
  },
  {
   "cell_type": "markdown",
   "metadata": {},
   "source": [
    "For comparison, we check how the discriminator classifies the\n",
    "generator's (still unoptimized) fake data:\n"
   ]
  },
  {
   "cell_type": "code",
   "execution_count": 15,
   "metadata": {},
   "outputs": [
    {
     "name": "stdout",
     "output_type": "stream",
     "text": [
      "Prob(fake classified as real):  0.5011128410696983\n"
     ]
    }
   ],
   "source": [
    "print(\"Prob(fake classified as real): \", prob_fake_true(gen_weights, disc_weights).numpy())"
   ]
  },
  {
   "cell_type": "markdown",
   "metadata": {},
   "source": [
    "In the adversarial game we now have to train the generator to better\n",
    "fool the discriminator. For this demo, we only perform one stage of the\n",
    "game. For more complex models, we would continue training the models in\n",
    "an alternating fashion until we reach the optimum point of the\n",
    "two-player adversarial game.\n"
   ]
  },
  {
   "cell_type": "code",
   "execution_count": 16,
   "metadata": {},
   "outputs": [
    {
     "name": "stdout",
     "output_type": "stream",
     "text": [
      "Step 0: cost = -0.583338662981987\n",
      "Step 5: cost = -0.8915733695030212\n",
      "Step 10: cost = -0.9784243404865265\n",
      "Step 15: cost = -0.9946483671665192\n",
      "Step 20: cost = -0.9984996318817139\n",
      "Step 25: cost = -0.9995638728141785\n",
      "Step 30: cost = -0.9998717606067657\n",
      "Step 35: cost = -0.9999621212482452\n",
      "Step 40: cost = -0.9999887645244598\n",
      "Step 45: cost = -0.9999967217445374\n"
     ]
    }
   ],
   "source": [
    "cost = lambda: gen_cost(gen_weights)\n",
    "\n",
    "for step in range(50):\n",
    "    opt.minimize(cost, [gen_weights])\n",
    "    if step % 5 == 0:\n",
    "        cost_val = cost().numpy()\n",
    "        print(\"Step {}: cost = {}\".format(step, cost_val))"
   ]
  },
  {
   "cell_type": "markdown",
   "metadata": {},
   "source": [
    "At the optimum of the generator, the probability for the discriminator\n",
    "to be fooled should be close to 1.\n"
   ]
  },
  {
   "cell_type": "code",
   "execution_count": 17,
   "metadata": {},
   "outputs": [
    {
     "name": "stdout",
     "output_type": "stream",
     "text": [
      "Prob(fake classified as real):  0.9999987781047821\n"
     ]
    }
   ],
   "source": [
    "print(\"Prob(fake classified as real): \", prob_fake_true(gen_weights, disc_weights).numpy())"
   ]
  },
  {
   "cell_type": "markdown",
   "metadata": {},
   "source": [
    "At the joint optimum the discriminator cost will be close to zero,\n",
    "indicating that the discriminator assigns equal probability to both real\n",
    "and generated data.\n"
   ]
  },
  {
   "cell_type": "code",
   "execution_count": 18,
   "metadata": {},
   "outputs": [
    {
     "name": "stdout",
     "output_type": "stream",
     "text": [
      "Discriminator cost:  0.00141143798828125\n"
     ]
    }
   ],
   "source": [
    "print(\"Discriminator cost: \", disc_cost(disc_weights).numpy())"
   ]
  },
  {
   "cell_type": "markdown",
   "metadata": {},
   "source": [
    "The generator has successfully learned how to simulate the real data\n",
    "enough to fool the discriminator.\n",
    "\n",
    "Let\\'s conclude by comparing the states of the real data circuit and the\n",
    "generator. We expect the generator to have learned to be in a state that\n",
    "is very close to the one prepared in the real data circuit. An easy way\n",
    "to access the state of the first qubit is through its [Bloch\n",
    "sphere](https://en.wikipedia.org/wiki/Bloch_sphere) representation:\n"
   ]
  },
  {
   "cell_type": "code",
   "execution_count": 19,
   "metadata": {},
   "outputs": [
    {
     "name": "stdout",
     "output_type": "stream",
     "text": [
      "Real Bloch vector: [array(-0.21694186), array(0.45048442), array(-0.86602521)]\n",
      "Generator Bloch vector: [<tf.Tensor: shape=(), dtype=float64, numpy=-0.28404662013053894>, <tf.Tensor: shape=(), dtype=float64, numpy=0.41893234848976135>, <tf.Tensor: shape=(), dtype=float64, numpy=-0.8624441027641296>]\n"
     ]
    }
   ],
   "source": [
    "obs = [qml.PauliX(0), qml.PauliY(0), qml.PauliZ(0)]\n",
    "\n",
    "@qml.qnode(dev)\n",
    "def bloch_vector_real(angles):\n",
    "    real(angles)\n",
    "    return [qml.expval(o) for o in obs]\n",
    "\n",
    "@qml.qnode(dev)\n",
    "def bloch_vector_generator(angles):\n",
    "    generator(angles)\n",
    "    return [qml.expval(o) for o in obs]\n",
    "\n",
    "print(f\"Real Bloch vector: {bloch_vector_real([phi, theta, omega])}\")\n",
    "print(f\"Generator Bloch vector: {bloch_vector_generator(gen_weights)}\")"
   ]
  },
  {
   "cell_type": "markdown",
   "metadata": {},
   "source": [
    "About the author\n",
    "================\n"
   ]
  }
 ],
 "metadata": {
  "kernelspec": {
   "display_name": "Python 3 (ipykernel)",
   "language": "python",
   "name": "python3"
  },
  "language_info": {
   "codemirror_mode": {
    "name": "ipython",
    "version": 3
   },
   "file_extension": ".py",
   "mimetype": "text/x-python",
   "name": "python",
   "nbconvert_exporter": "python",
   "pygments_lexer": "ipython3",
   "version": "3.11.5"
  }
 },
 "nbformat": 4,
 "nbformat_minor": 1
}
