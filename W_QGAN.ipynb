{
 "cells": [
  {
   "cell_type": "code",
   "execution_count": 19,
   "metadata": {},
   "outputs": [],
   "source": [
    "import torch\n",
    "import yfinance as yf\n",
    "import numpy as np\n",
    "import paddle\n",
    "import numpy as np\n",
    "np.object = object\n",
    "from paddle_quantum.ansatz import Circuit\n",
    "from paddle_quantum.gate import BasisEncoding, AmplitudeEncoding, AngleEncoding, IQPEncoding\n",
    "import paddle_quantum as pq\n",
    "import matplotlib.pyplot as plt"
   ]
  },
  {
   "cell_type": "code",
   "execution_count": null,
   "metadata": {},
   "outputs": [
    {
     "name": "stderr",
     "output_type": "stream",
     "text": [
      "[*********************100%***********************]  1 of 1 completed\n"
     ]
    }
   ],
   "source": [
    "sp500 = yf.download('^GSPC', start='2000-01-01', end='2023-12-31')\n",
    "prices = sp500['Adj Close']\n",
    "\n",
    "# Preprocess the data: calculate returns or normalize directly\n",
    "log_returns = np.log(prices / prices.shift(1)).dropna()\n",
    "normalized_data = (log_returns - log_returns.mean()) / log_returns.std()\n",
    "\n",
    "# Convert to a numpy array for training\n",
    "training_data = normalized_data.values\n",
    "\n",
    "qubits = 13"
   ]
  },
  {
   "cell_type": "code",
   "execution_count": 29,
   "metadata": {},
   "outputs": [
    {
     "name": "stdout",
     "output_type": "stream",
     "text": [
      "[-0.04086019+0.j  0.00179228+0.j  0.00078874+0.j ...  0.        +0.j\n",
      "  0.        +0.j  0.        +0.j]\n"
     ]
    }
   ],
   "source": [
    "amplitude_enc = AmplitudeEncoding(num_qubits=qubits)\n",
    "x = paddle.to_tensor(training_data)\n",
    "state = amplitude_enc(x)\n",
    "print(state)\n"
   ]
  },
  {
   "cell_type": "code",
   "execution_count": null,
   "metadata": {},
   "outputs": [],
   "source": []
  }
 ],
 "metadata": {
  "kernelspec": {
   "display_name": "base",
   "language": "python",
   "name": "python3"
  },
  "language_info": {
   "codemirror_mode": {
    "name": "ipython",
    "version": 3
   },
   "file_extension": ".py",
   "mimetype": "text/x-python",
   "name": "python",
   "nbconvert_exporter": "python",
   "pygments_lexer": "ipython3",
   "version": "3.11.5"
  }
 },
 "nbformat": 4,
 "nbformat_minor": 2
}
